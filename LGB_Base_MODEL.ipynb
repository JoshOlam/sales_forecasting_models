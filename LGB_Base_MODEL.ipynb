{
 "cells": [
  {
   "cell_type": "markdown",
   "metadata": {
    "id": "W4UGhtsKfTxh"
   },
   "source": [
    "# Overview of the project"
   ]
  },
  {
   "cell_type": "code",
   "execution_count": null,
   "metadata": {},
   "outputs": [],
   "source": []
  },
  {
   "cell_type": "markdown",
   "metadata": {
    "id": "_pK3PgA2HADe"
   },
   "source": [
    "###The Makridakis Open Forecasting Center (MOFC) at the University of Nicosia conducts cutting-edge forecasting research and provides business forecast training. It helps companies achieve accurate predictions, estimate the levels of uncertainty, avoiding costly mistakes, and apply best forecasting practices. The MOFC is well known for its Makridakis Competitions, the first of which ran in the 1980s.\n",
    "\n"
   ]
  },
  {
   "cell_type": "markdown",
   "metadata": {
    "id": "Z6dbviGzluFl"
   },
   "source": [
    "## Aim of the project:"
   ]
  },
  {
   "cell_type": "markdown",
   "metadata": {
    "id": "E_ylcRU-fGei"
   },
   "source": [
    "###This data is  hierarchical sales data from Walmart, the world’s largest company by revenue, and the aim of this project is  to forecast daily sales for the next 28 days and to make uncertainty estimates for these forecasts. \n",
    "\n",
    "###The data, covers stores in three US States (California, Texas, and Wisconsin) and includes item level, department, product categories, and store details. In addition, it has explanatory variables such as price, promotions, day of the week, and special events. Together, this robust dataset can be used to improve forecasting accuracy.\n"
   ]
  },
  {
   "cell_type": "markdown",
   "metadata": {
    "id": "SUWEqS8KfqDK"
   },
   "source": [
    "## Description of the data provided"
   ]
  },
  {
   "cell_type": "markdown",
   "metadata": {
    "id": "_MWk0n3qHIcM"
   },
   "source": [
    "###calendar.csv - Contains information about the dates on which the products are sold.\n",
    "###sales_train_validation.csv - Contains the historical daily unit sales data per product and store [d_1 - d_1913]\n",
    "###sample_submission.csv - The correct format for submissions. Reference the Evaluation tab for more info.\n",
    "###sell_prices.csv - Contains information about the price of the products sold per store and date.\n",
    "###sales_train_evaluation.csv - Includes sales [d_1 - d_1941] "
   ]
  },
  {
   "cell_type": "code",
   "execution_count": null,
   "metadata": {
    "id": "S2u9ioeAPzSJ"
   },
   "outputs": [],
   "source": []
  },
  {
   "cell_type": "markdown",
   "metadata": {
    "id": "mbjsvsRwFeJ8"
   },
   "source": [
    "## Importing the necessary libraries"
   ]
  },
  {
   "cell_type": "code",
   "execution_count": null,
   "metadata": {
    "id": "GTWFg-9O0fL3"
   },
   "outputs": [],
   "source": [
    "import pandas as pd\n",
    "import numpy as np\n",
    "import seaborn as sns\n",
    "import matplotlib.pyplot as plt\n",
    "from sklearn.preprocessing import LabelEncoder\n",
    "\n",
    "import os, sys, gc, time, warnings, pickle, psutil, random\n",
    "\n",
    "from math import ceil\n",
    "\n",
    "import warnings\n",
    "warnings.filterwarnings(\"ignore\")\n"
   ]
  },
  {
   "cell_type": "code",
   "execution_count": null,
   "metadata": {
    "id": "NGw9ACaPsBpp"
   },
   "outputs": [],
   "source": [
    "\n",
    "import time\n",
    "import math\n",
    "import datetime\n",
    "\n",
    "\n",
    "# Import widgets\n",
    "from ipywidgets import widgets, interactive, interact\n",
    "import ipywidgets as widgets\n",
    "from IPython.display import display\n",
    "\n",
    "from math import log, floor\n",
    "from sklearn.neighbors import KDTree\n",
    "\n",
    "import seaborn as sns\n",
    "sns.set_style('whitegrid')\n",
    "\n",
    "import plotly.express as px\n",
    "import plotly.graph_objects as go\n",
    "import plotly.figure_factory as ff\n",
    "from plotly.subplots import make_subplots\n",
    "\n",
    "import pywt\n",
    "from statsmodels.robust import mad\n",
    "\n",
    "import scipy\n",
    "import statsmodels\n",
    "from scipy import signal\n",
    "\n",
    "from statsmodels.tsa.arima_model import ARIMA\n",
    "from statsmodels.tsa.statespace.sarimax import SARIMAX\n",
    "from statsmodels.tsa.api import ExponentialSmoothing, SimpleExpSmoothing, Holt\n",
    "from statsmodels.tsa.stattools import adfuller\n",
    "\n"
   ]
  },
  {
   "cell_type": "markdown",
   "metadata": {
    "id": "OW5_aGKzFJMj"
   },
   "source": [
    "## Data Importation"
   ]
  },
  {
   "cell_type": "code",
   "execution_count": null,
   "metadata": {
    "colab": {
     "base_uri": "https://localhost:8080/"
    },
    "id": "ZUtMEuqf-_6O",
    "outputId": "6b370c78-cd7f-45e0-d792-19047f07635b"
   },
   "outputs": [
    {
     "name": "stdout",
     "output_type": "stream",
     "text": [
      "Mounted at /content/drive\n"
     ]
    }
   ],
   "source": [
    "\n",
    "# Mounting the google drive\n",
    "from google.colab import drive\n",
    "drive.mount('/content/drive')"
   ]
  },
  {
   "cell_type": "code",
   "execution_count": null,
   "metadata": {
    "colab": {
     "base_uri": "https://localhost:8080/"
    },
    "id": "6AP8Ja5PT79T",
    "outputId": "878a3958-4907-4433-8d23-8ea7c84e1abd"
   },
   "outputs": [
    {
     "name": "stdout",
     "output_type": "stream",
     "text": [
      "Archive:  /content/drive/MyDrive/sales/m5-forecasting-uncertainty.zip\n",
      "  inflating: calendar.csv            \n",
      "  inflating: sales_train_evaluation.csv  \n",
      "  inflating: sales_train_validation.csv  \n",
      "  inflating: sample_submission.csv   \n",
      "  inflating: sell_prices.csv         \n"
     ]
    }
   ],
   "source": [
    "!unzip /content/drive/MyDrive/sales/m5-forecasting-uncertainty.zip"
   ]
  },
  {
   "cell_type": "code",
   "execution_count": null,
   "metadata": {
    "id": "1L-EeRS9T8Ai"
   },
   "outputs": [],
   "source": [
    "calendar_df = pd.read_csv('calendar.csv')\n",
    "train_df = pd.read_csv('sales_train_evaluation.csv')\n",
    "#val_df = reduce_mem_usage(pd.read_csv('sales_train_validation.csv'))\n",
    "prices_df = pd.read_csv('sell_prices.csv')\n",
    "sales_val_df = pd.read_csv('sales_train_validation.csv')\n",
    "sales_eval_df = pd.read_csv('sales_train_evaluation.csv')"
   ]
  },
  {
   "cell_type": "code",
   "execution_count": null,
   "metadata": {
    "id": "pNfXO_tdT8FY"
   },
   "outputs": [],
   "source": []
  },
  {
   "cell_type": "markdown",
   "metadata": {
    "id": "px4tsKctDUHZ"
   },
   "source": [
    "### We define a function to enable us to efficiently manage our memory"
   ]
  },
  {
   "cell_type": "code",
   "execution_count": null,
   "metadata": {
    "id": "gPVJLsLLSugf"
   },
   "outputs": [],
   "source": [
    "\n",
    "def reduce_mem_usage(df, verbose=True):\n",
    "    numerics = ['int16', 'int32', 'int64', 'float16', 'float32', 'float64']     \n",
    "    start_mem = df.memory_usage().sum() / 1024**2    \n",
    "    for col in df.columns:\n",
    "        col_type = df[col].dtypes\n",
    "        if col_type in numerics:\n",
    "            c_min = df[col].min()\n",
    "            c_max = df[col].max()\n",
    "            if str(col_type)[:3] == 'int':\n",
    "                if c_min > np.iinfo(np.int8).min and c_max < np.iinfo(np.int8).max:\n",
    "                    df[col] = df[col].astype(np.int8)\n",
    "                elif c_min > np.iinfo(np.int16).min and c_max < np.iinfo(np.int16).max:\n",
    "                    df[col] = df[col].astype(np.int16)\n",
    "                elif c_min > np.iinfo(np.int32).min and c_max < np.iinfo(np.int32).max:\n",
    "                    df[col] = df[col].astype(np.int32)\n",
    "                elif c_min > np.iinfo(np.int64).min and c_max < np.iinfo(np.int64).max:\n",
    "                    df[col] = df[col].astype(np.int64)  \n",
    "            else:\n",
    "                if c_min > np.finfo(np.float16).min and c_max < np.finfo(np.float16).max:\n",
    "                    df[col] = df[col].astype(np.float16)\n",
    "                elif c_min > np.finfo(np.float32).min and c_max < np.finfo(np.float32).max:\n",
    "                    df[col] = df[col].astype(np.float32)\n",
    "                else:\n",
    "                    df[col] = df[col].astype(np.float64)    \n",
    "    end_mem = df.memory_usage().sum() / 1024**2\n",
    "    if verbose: print('Mem. usage decreased to {:5.2f} Mb ({:.1f}% reduction)'.format(end_mem, 100 * (start_mem - end_mem) / start_mem))\n",
    "    return df"
   ]
  },
  {
   "cell_type": "code",
   "execution_count": null,
   "metadata": {
    "colab": {
     "base_uri": "https://localhost:8080/"
    },
    "id": "rtc5HpETPGxD",
    "outputId": "fddb0e35-56cc-413c-f4dd-93f0581e6831"
   },
   "outputs": [
    {
     "name": "stdout",
     "output_type": "stream",
     "text": [
      "Mem. usage decreased to 96.13 Mb (78.8% reduction)\n"
     ]
    }
   ],
   "source": [
    "train_df = reduce_mem_usage(train_df)"
   ]
  },
  {
   "cell_type": "code",
   "execution_count": null,
   "metadata": {
    "colab": {
     "base_uri": "https://localhost:8080/"
    },
    "id": "dvZwtvVdP9yp",
    "outputId": "c7229f98-65ce-44c2-a8b8-4a3e68916132"
   },
   "outputs": [
    {
     "name": "stdout",
     "output_type": "stream",
     "text": [
      "Mem. usage decreased to 130.48 Mb (37.5% reduction)\n"
     ]
    }
   ],
   "source": [
    "prices_df = reduce_mem_usage(prices_df)"
   ]
  },
  {
   "cell_type": "markdown",
   "metadata": {
    "id": "JsM3Q8pwErQq"
   },
   "source": [
    "### Let us define another function to help us with  plotting of time series data"
   ]
  },
  {
   "cell_type": "code",
   "execution_count": null,
   "metadata": {
    "id": "By4nCahTcga0"
   },
   "outputs": [],
   "source": [
    "# Helper functions\n",
    "def plot_time_series(data, ax=None, show=False):\n",
    "    \"\"\"Plot time series data.\"\"\"\n",
    "    if ax is None:\n",
    "        fig, ax = plt.subplots()\n",
    "    for ind in data.index:\n",
    "        ax.plot([int(col.split('_')[-1]) for col in data.columns], \n",
    "                data.loc[ind].values, '-', label=ind)\n",
    "    ax.legend(loc='best')\n",
    "    ax.set_xlabel('day number')\n",
    "    ax.set_ylabel('items sold')\n",
    "    if show:\n",
    "        plt.show(block=False)\n",
    "\n",
    "def plot_aggregation(data):\n",
    "    \"\"\"Make plots over two time periods.\"\"\"\n",
    "    plot_time_series(data)\n",
    "    plot_time_series(data[data.columns[-3*28:]])"
   ]
  },
  {
   "cell_type": "markdown",
   "metadata": {
    "id": "iCYEl2eBE35p"
   },
   "source": [
    "### We now observe some of the columns of the data"
   ]
  },
  {
   "cell_type": "code",
   "execution_count": null,
   "metadata": {
    "colab": {
     "base_uri": "https://localhost:8080/"
    },
    "id": "ga-Nmn6oGmv6",
    "outputId": "27a176bf-784c-4c81-9ceb-7509bf466af0"
   },
   "outputs": [
    {
     "data": {
      "text/plain": [
       "Index(['id', 'item_id', 'dept_id', 'cat_id', 'store_id', 'state_id', 'd_1',\n",
       "       'd_2', 'd_3', 'd_4',\n",
       "       ...\n",
       "       'd_1932', 'd_1933', 'd_1934', 'd_1935', 'd_1936', 'd_1937', 'd_1938',\n",
       "       'd_1939', 'd_1940', 'd_1941'],\n",
       "      dtype='object', length=1947)"
      ]
     },
     "execution_count": 58,
     "metadata": {},
     "output_type": "execute_result"
    }
   ],
   "source": [
    "train_df.columns"
   ]
  },
  {
   "cell_type": "code",
   "execution_count": null,
   "metadata": {
    "colab": {
     "base_uri": "https://localhost:8080/"
    },
    "id": "7gttq3LOQLDe",
    "outputId": "99c54e10-a211-4565-8651-0f37a11d2aed"
   },
   "outputs": [
    {
     "data": {
      "text/plain": [
       "Index(['store_id', 'item_id', 'wm_yr_wk', 'sell_price'], dtype='object')"
      ]
     },
     "execution_count": 59,
     "metadata": {},
     "output_type": "execute_result"
    }
   ],
   "source": [
    "prices_df.columns"
   ]
  },
  {
   "cell_type": "code",
   "execution_count": null,
   "metadata": {
    "id": "B7PXr5-vLMHe"
   },
   "outputs": [],
   "source": [
    "train_df=train_df.fillna(0)"
   ]
  },
  {
   "cell_type": "markdown",
   "metadata": {
    "id": "WLkFCHHoE_KL"
   },
   "source": [
    "### Making a description of the categorical columns present in the dataset"
   ]
  },
  {
   "cell_type": "code",
   "execution_count": null,
   "metadata": {
    "colab": {
     "base_uri": "https://localhost:8080/"
    },
    "id": "Bx2sNwqkcgdc",
    "outputId": "0f396be7-8135-4d56-fc46-3393ebde066c"
   },
   "outputs": [
    {
     "name": "stdout",
     "output_type": "stream",
     "text": [
      "['id', 'd_1', 'd_2', 'd_3', 'd_4', 'd_5', 'd_6', 'd_7', 'd_8', 'd_9', 'd_10', 'd_11', 'd_12', 'd_13', 'd_14', 'd_15', 'd_16', 'd_17', 'd_18', 'd_19', 'd_20', 'd_21', 'd_22', 'd_23', 'd_24', 'd_25', 'd_26', 'd_27', 'd_28', 'd_29', 'd_30', 'd_31', 'd_32', 'd_33', 'd_34', 'd_35', 'd_36', 'd_37', 'd_38', 'd_39', 'd_40', 'd_41', 'd_42', 'd_43', 'd_44', 'd_45', 'd_46', 'd_47', 'd_48', 'd_49', 'd_50', 'd_51', 'd_52', 'd_53', 'd_54', 'd_55', 'd_56', 'd_57', 'd_58', 'd_59', 'd_60', 'd_61', 'd_62', 'd_63', 'd_64', 'd_65', 'd_66', 'd_67', 'd_68', 'd_69', 'd_70', 'd_71', 'd_72', 'd_73', 'd_74', 'd_75', 'd_76', 'd_77', 'd_78', 'd_79', 'd_80', 'd_81', 'd_82', 'd_83', 'd_84', 'd_85', 'd_86', 'd_87', 'd_88', 'd_89', 'd_90', 'd_91', 'd_92', 'd_93', 'd_94', 'd_95', 'd_96', 'd_97', 'd_98', 'd_99', 'd_100', 'd_101', 'd_102', 'd_103', 'd_104', 'd_105', 'd_106', 'd_107', 'd_108', 'd_109', 'd_110', 'd_111', 'd_112', 'd_113', 'd_114', 'd_115', 'd_116', 'd_117', 'd_118', 'd_119', 'd_120', 'd_121', 'd_122', 'd_123', 'd_124', 'd_125', 'd_126', 'd_127', 'd_128', 'd_129', 'd_130', 'd_131', 'd_132', 'd_133', 'd_134', 'd_135', 'd_136', 'd_137', 'd_138', 'd_139', 'd_140', 'd_141', 'd_142', 'd_143', 'd_144', 'd_145', 'd_146', 'd_147', 'd_148', 'd_149', 'd_150', 'd_151', 'd_152', 'd_153', 'd_154', 'd_155', 'd_156', 'd_157', 'd_158', 'd_159', 'd_160', 'd_161', 'd_162', 'd_163', 'd_164', 'd_165', 'd_166', 'd_167', 'd_168', 'd_169', 'd_170', 'd_171', 'd_172', 'd_173', 'd_174', 'd_175', 'd_176', 'd_177', 'd_178', 'd_179', 'd_180', 'd_181', 'd_182', 'd_183', 'd_184', 'd_185', 'd_186', 'd_187', 'd_188', 'd_189', 'd_190', 'd_191', 'd_192', 'd_193', 'd_194', 'd_195', 'd_196', 'd_197', 'd_198', 'd_199', 'd_200', 'd_201', 'd_202', 'd_203', 'd_204', 'd_205', 'd_206', 'd_207', 'd_208', 'd_209', 'd_210', 'd_211', 'd_212', 'd_213', 'd_214', 'd_215', 'd_216', 'd_217', 'd_218', 'd_219', 'd_220', 'd_221', 'd_222', 'd_223', 'd_224', 'd_225', 'd_226', 'd_227', 'd_228', 'd_229', 'd_230', 'd_231', 'd_232', 'd_233', 'd_234', 'd_235', 'd_236', 'd_237', 'd_238', 'd_239', 'd_240', 'd_241', 'd_242', 'd_243', 'd_244', 'd_245', 'd_246', 'd_247', 'd_248', 'd_249', 'd_250', 'd_251', 'd_252', 'd_253', 'd_254', 'd_255', 'd_256', 'd_257', 'd_258', 'd_259', 'd_260', 'd_261', 'd_262', 'd_263', 'd_264', 'd_265', 'd_266', 'd_267', 'd_268', 'd_269', 'd_270', 'd_271', 'd_272', 'd_273', 'd_274', 'd_275', 'd_276', 'd_277', 'd_278', 'd_279', 'd_280', 'd_281', 'd_282', 'd_283', 'd_284', 'd_285', 'd_286', 'd_287', 'd_288', 'd_289', 'd_290', 'd_291', 'd_292', 'd_293', 'd_294', 'd_295', 'd_296', 'd_297', 'd_298', 'd_299', 'd_300', 'd_301', 'd_302', 'd_303', 'd_304', 'd_305', 'd_306', 'd_307', 'd_308', 'd_309', 'd_310', 'd_311', 'd_312', 'd_313', 'd_314', 'd_315', 'd_316', 'd_317', 'd_318', 'd_319', 'd_320', 'd_321', 'd_322', 'd_323', 'd_324', 'd_325', 'd_326', 'd_327', 'd_328', 'd_329', 'd_330', 'd_331', 'd_332', 'd_333', 'd_334', 'd_335', 'd_336', 'd_337', 'd_338', 'd_339', 'd_340', 'd_341', 'd_342', 'd_343', 'd_344', 'd_345', 'd_346', 'd_347', 'd_348', 'd_349', 'd_350', 'd_351', 'd_352', 'd_353', 'd_354', 'd_355', 'd_356', 'd_357', 'd_358', 'd_359', 'd_360', 'd_361', 'd_362', 'd_363', 'd_364', 'd_365', 'd_366', 'd_367', 'd_368', 'd_369', 'd_370', 'd_371', 'd_372', 'd_373', 'd_374', 'd_375', 'd_376', 'd_377', 'd_378', 'd_379', 'd_380', 'd_381', 'd_382', 'd_383', 'd_384', 'd_385', 'd_386', 'd_387', 'd_388', 'd_389', 'd_390', 'd_391', 'd_392', 'd_393', 'd_394', 'd_395', 'd_396', 'd_397', 'd_398', 'd_399', 'd_400', 'd_401', 'd_402', 'd_403', 'd_404', 'd_405', 'd_406', 'd_407', 'd_408', 'd_409', 'd_410', 'd_411', 'd_412', 'd_413', 'd_414', 'd_415', 'd_416', 'd_417', 'd_418', 'd_419', 'd_420', 'd_421', 'd_422', 'd_423', 'd_424', 'd_425', 'd_426', 'd_427', 'd_428', 'd_429', 'd_430', 'd_431', 'd_432', 'd_433', 'd_434', 'd_435', 'd_436', 'd_437', 'd_438', 'd_439', 'd_440', 'd_441', 'd_442', 'd_443', 'd_444', 'd_445', 'd_446', 'd_447', 'd_448', 'd_449', 'd_450', 'd_451', 'd_452', 'd_453', 'd_454', 'd_455', 'd_456', 'd_457', 'd_458', 'd_459', 'd_460', 'd_461', 'd_462', 'd_463', 'd_464', 'd_465', 'd_466', 'd_467', 'd_468', 'd_469', 'd_470', 'd_471', 'd_472', 'd_473', 'd_474', 'd_475', 'd_476', 'd_477', 'd_478', 'd_479', 'd_480', 'd_481', 'd_482', 'd_483', 'd_484', 'd_485', 'd_486', 'd_487', 'd_488', 'd_489', 'd_490', 'd_491', 'd_492', 'd_493', 'd_494', 'd_495', 'd_496', 'd_497', 'd_498', 'd_499', 'd_500', 'd_501', 'd_502', 'd_503', 'd_504', 'd_505', 'd_506', 'd_507', 'd_508', 'd_509', 'd_510', 'd_511', 'd_512', 'd_513', 'd_514', 'd_515', 'd_516', 'd_517', 'd_518', 'd_519', 'd_520', 'd_521', 'd_522', 'd_523', 'd_524', 'd_525', 'd_526', 'd_527', 'd_528', 'd_529', 'd_530', 'd_531', 'd_532', 'd_533', 'd_534', 'd_535', 'd_536', 'd_537', 'd_538', 'd_539', 'd_540', 'd_541', 'd_542', 'd_543', 'd_544', 'd_545', 'd_546', 'd_547', 'd_548', 'd_549', 'd_550', 'd_551', 'd_552', 'd_553', 'd_554', 'd_555', 'd_556', 'd_557', 'd_558', 'd_559', 'd_560', 'd_561', 'd_562', 'd_563', 'd_564', 'd_565', 'd_566', 'd_567', 'd_568', 'd_569', 'd_570', 'd_571', 'd_572', 'd_573', 'd_574', 'd_575', 'd_576', 'd_577', 'd_578', 'd_579', 'd_580', 'd_581', 'd_582', 'd_583', 'd_584', 'd_585', 'd_586', 'd_587', 'd_588', 'd_589', 'd_590', 'd_591', 'd_592', 'd_593', 'd_594', 'd_595', 'd_596', 'd_597', 'd_598', 'd_599', 'd_600', 'd_601', 'd_602', 'd_603', 'd_604', 'd_605', 'd_606', 'd_607', 'd_608', 'd_609', 'd_610', 'd_611', 'd_612', 'd_613', 'd_614', 'd_615', 'd_616', 'd_617', 'd_618', 'd_619', 'd_620', 'd_621', 'd_622', 'd_623', 'd_624', 'd_625', 'd_626', 'd_627', 'd_628', 'd_629', 'd_630', 'd_631', 'd_632', 'd_633', 'd_634', 'd_635', 'd_636', 'd_637', 'd_638', 'd_639', 'd_640', 'd_641', 'd_642', 'd_643', 'd_644', 'd_645', 'd_646', 'd_647', 'd_648', 'd_649', 'd_650', 'd_651', 'd_652', 'd_653', 'd_654', 'd_655', 'd_656', 'd_657', 'd_658', 'd_659', 'd_660', 'd_661', 'd_662', 'd_663', 'd_664', 'd_665', 'd_666', 'd_667', 'd_668', 'd_669', 'd_670', 'd_671', 'd_672', 'd_673', 'd_674', 'd_675', 'd_676', 'd_677', 'd_678', 'd_679', 'd_680', 'd_681', 'd_682', 'd_683', 'd_684', 'd_685', 'd_686', 'd_687', 'd_688', 'd_689', 'd_690', 'd_691', 'd_692', 'd_693', 'd_694', 'd_695', 'd_696', 'd_697', 'd_698', 'd_699', 'd_700', 'd_701', 'd_702', 'd_703', 'd_704', 'd_705', 'd_706', 'd_707', 'd_708', 'd_709', 'd_710', 'd_711', 'd_712', 'd_713', 'd_714', 'd_715', 'd_716', 'd_717', 'd_718', 'd_719', 'd_720', 'd_721', 'd_722', 'd_723', 'd_724', 'd_725', 'd_726', 'd_727', 'd_728', 'd_729', 'd_730', 'd_731', 'd_732', 'd_733', 'd_734', 'd_735', 'd_736', 'd_737', 'd_738', 'd_739', 'd_740', 'd_741', 'd_742', 'd_743', 'd_744', 'd_745', 'd_746', 'd_747', 'd_748', 'd_749', 'd_750', 'd_751', 'd_752', 'd_753', 'd_754', 'd_755', 'd_756', 'd_757', 'd_758', 'd_759', 'd_760', 'd_761', 'd_762', 'd_763', 'd_764', 'd_765', 'd_766', 'd_767', 'd_768', 'd_769', 'd_770', 'd_771', 'd_772', 'd_773', 'd_774', 'd_775', 'd_776', 'd_777', 'd_778', 'd_779', 'd_780', 'd_781', 'd_782', 'd_783', 'd_784', 'd_785', 'd_786', 'd_787', 'd_788', 'd_789', 'd_790', 'd_791', 'd_792', 'd_793', 'd_794', 'd_795', 'd_796', 'd_797', 'd_798', 'd_799', 'd_800', 'd_801', 'd_802', 'd_803', 'd_804', 'd_805', 'd_806', 'd_807', 'd_808', 'd_809', 'd_810', 'd_811', 'd_812', 'd_813', 'd_814', 'd_815', 'd_816', 'd_817', 'd_818', 'd_819', 'd_820', 'd_821', 'd_822', 'd_823', 'd_824', 'd_825', 'd_826', 'd_827', 'd_828', 'd_829', 'd_830', 'd_831', 'd_832', 'd_833', 'd_834', 'd_835', 'd_836', 'd_837', 'd_838', 'd_839', 'd_840', 'd_841', 'd_842', 'd_843', 'd_844', 'd_845', 'd_846', 'd_847', 'd_848', 'd_849', 'd_850', 'd_851', 'd_852', 'd_853', 'd_854', 'd_855', 'd_856', 'd_857', 'd_858', 'd_859', 'd_860', 'd_861', 'd_862', 'd_863', 'd_864', 'd_865', 'd_866', 'd_867', 'd_868', 'd_869', 'd_870', 'd_871', 'd_872', 'd_873', 'd_874', 'd_875', 'd_876', 'd_877', 'd_878', 'd_879', 'd_880', 'd_881', 'd_882', 'd_883', 'd_884', 'd_885', 'd_886', 'd_887', 'd_888', 'd_889', 'd_890', 'd_891', 'd_892', 'd_893', 'd_894', 'd_895', 'd_896', 'd_897', 'd_898', 'd_899', 'd_900', 'd_901', 'd_902', 'd_903', 'd_904', 'd_905', 'd_906', 'd_907', 'd_908', 'd_909', 'd_910', 'd_911', 'd_912', 'd_913', 'd_914', 'd_915', 'd_916', 'd_917', 'd_918', 'd_919', 'd_920', 'd_921', 'd_922', 'd_923', 'd_924', 'd_925', 'd_926', 'd_927', 'd_928', 'd_929', 'd_930', 'd_931', 'd_932', 'd_933', 'd_934', 'd_935', 'd_936', 'd_937', 'd_938', 'd_939', 'd_940', 'd_941', 'd_942', 'd_943', 'd_944', 'd_945', 'd_946', 'd_947', 'd_948', 'd_949', 'd_950', 'd_951', 'd_952', 'd_953', 'd_954', 'd_955', 'd_956', 'd_957', 'd_958', 'd_959', 'd_960', 'd_961', 'd_962', 'd_963', 'd_964', 'd_965', 'd_966', 'd_967', 'd_968', 'd_969', 'd_970', 'd_971', 'd_972', 'd_973', 'd_974', 'd_975', 'd_976', 'd_977', 'd_978', 'd_979', 'd_980', 'd_981', 'd_982', 'd_983', 'd_984', 'd_985', 'd_986', 'd_987', 'd_988', 'd_989', 'd_990', 'd_991', 'd_992', 'd_993', 'd_994', 'd_995', 'd_996', 'd_997', 'd_998', 'd_999', 'd_1000', 'd_1001', 'd_1002', 'd_1003', 'd_1004', 'd_1005', 'd_1006', 'd_1007', 'd_1008', 'd_1009', 'd_1010', 'd_1011', 'd_1012', 'd_1013', 'd_1014', 'd_1015', 'd_1016', 'd_1017', 'd_1018', 'd_1019', 'd_1020', 'd_1021', 'd_1022', 'd_1023', 'd_1024', 'd_1025', 'd_1026', 'd_1027', 'd_1028', 'd_1029', 'd_1030', 'd_1031', 'd_1032', 'd_1033', 'd_1034', 'd_1035', 'd_1036', 'd_1037', 'd_1038', 'd_1039', 'd_1040', 'd_1041', 'd_1042', 'd_1043', 'd_1044', 'd_1045', 'd_1046', 'd_1047', 'd_1048', 'd_1049', 'd_1050', 'd_1051', 'd_1052', 'd_1053', 'd_1054', 'd_1055', 'd_1056', 'd_1057', 'd_1058', 'd_1059', 'd_1060', 'd_1061', 'd_1062', 'd_1063', 'd_1064', 'd_1065', 'd_1066', 'd_1067', 'd_1068', 'd_1069', 'd_1070', 'd_1071', 'd_1072', 'd_1073', 'd_1074', 'd_1075', 'd_1076', 'd_1077', 'd_1078', 'd_1079', 'd_1080', 'd_1081', 'd_1082', 'd_1083', 'd_1084', 'd_1085', 'd_1086', 'd_1087', 'd_1088', 'd_1089', 'd_1090', 'd_1091', 'd_1092', 'd_1093', 'd_1094', 'd_1095', 'd_1096', 'd_1097', 'd_1098', 'd_1099', 'd_1100', 'd_1101', 'd_1102', 'd_1103', 'd_1104', 'd_1105', 'd_1106', 'd_1107', 'd_1108', 'd_1109', 'd_1110', 'd_1111', 'd_1112', 'd_1113', 'd_1114', 'd_1115', 'd_1116', 'd_1117', 'd_1118', 'd_1119', 'd_1120', 'd_1121', 'd_1122', 'd_1123', 'd_1124', 'd_1125', 'd_1126', 'd_1127', 'd_1128', 'd_1129', 'd_1130', 'd_1131', 'd_1132', 'd_1133', 'd_1134', 'd_1135', 'd_1136', 'd_1137', 'd_1138', 'd_1139', 'd_1140', 'd_1141', 'd_1142', 'd_1143', 'd_1144', 'd_1145', 'd_1146', 'd_1147', 'd_1148', 'd_1149', 'd_1150', 'd_1151', 'd_1152', 'd_1153', 'd_1154', 'd_1155', 'd_1156', 'd_1157', 'd_1158', 'd_1159', 'd_1160', 'd_1161', 'd_1162', 'd_1163', 'd_1164', 'd_1165', 'd_1166', 'd_1167', 'd_1168', 'd_1169', 'd_1170', 'd_1171', 'd_1172', 'd_1173', 'd_1174', 'd_1175', 'd_1176', 'd_1177', 'd_1178', 'd_1179', 'd_1180', 'd_1181', 'd_1182', 'd_1183', 'd_1184', 'd_1185', 'd_1186', 'd_1187', 'd_1188', 'd_1189', 'd_1190', 'd_1191', 'd_1192', 'd_1193', 'd_1194', 'd_1195', 'd_1196', 'd_1197', 'd_1198', 'd_1199', 'd_1200', 'd_1201', 'd_1202', 'd_1203', 'd_1204', 'd_1205', 'd_1206', 'd_1207', 'd_1208', 'd_1209', 'd_1210', 'd_1211', 'd_1212', 'd_1213', 'd_1214', 'd_1215', 'd_1216', 'd_1217', 'd_1218', 'd_1219', 'd_1220', 'd_1221', 'd_1222', 'd_1223', 'd_1224', 'd_1225', 'd_1226', 'd_1227', 'd_1228', 'd_1229', 'd_1230', 'd_1231', 'd_1232', 'd_1233', 'd_1234', 'd_1235', 'd_1236', 'd_1237', 'd_1238', 'd_1239', 'd_1240', 'd_1241', 'd_1242', 'd_1243', 'd_1244', 'd_1245', 'd_1246', 'd_1247', 'd_1248', 'd_1249', 'd_1250', 'd_1251', 'd_1252', 'd_1253', 'd_1254', 'd_1255', 'd_1256', 'd_1257', 'd_1258', 'd_1259', 'd_1260', 'd_1261', 'd_1262', 'd_1263', 'd_1264', 'd_1265', 'd_1266', 'd_1267', 'd_1268', 'd_1269', 'd_1270', 'd_1271', 'd_1272', 'd_1273', 'd_1274', 'd_1275', 'd_1276', 'd_1277', 'd_1278', 'd_1279', 'd_1280', 'd_1281', 'd_1282', 'd_1283', 'd_1284', 'd_1285', 'd_1286', 'd_1287', 'd_1288', 'd_1289', 'd_1290', 'd_1291', 'd_1292', 'd_1293', 'd_1294', 'd_1295', 'd_1296', 'd_1297', 'd_1298', 'd_1299', 'd_1300', 'd_1301', 'd_1302', 'd_1303', 'd_1304', 'd_1305', 'd_1306', 'd_1307', 'd_1308', 'd_1309', 'd_1310', 'd_1311', 'd_1312', 'd_1313', 'd_1314', 'd_1315', 'd_1316', 'd_1317', 'd_1318', 'd_1319', 'd_1320', 'd_1321', 'd_1322', 'd_1323', 'd_1324', 'd_1325', 'd_1326', 'd_1327', 'd_1328', 'd_1329', 'd_1330', 'd_1331', 'd_1332', 'd_1333', 'd_1334', 'd_1335', 'd_1336', 'd_1337', 'd_1338', 'd_1339', 'd_1340', 'd_1341', 'd_1342', 'd_1343', 'd_1344', 'd_1345', 'd_1346', 'd_1347', 'd_1348', 'd_1349', 'd_1350', 'd_1351', 'd_1352', 'd_1353', 'd_1354', 'd_1355', 'd_1356', 'd_1357', 'd_1358', 'd_1359', 'd_1360', 'd_1361', 'd_1362', 'd_1363', 'd_1364', 'd_1365', 'd_1366', 'd_1367', 'd_1368', 'd_1369', 'd_1370', 'd_1371', 'd_1372', 'd_1373', 'd_1374', 'd_1375', 'd_1376', 'd_1377', 'd_1378', 'd_1379', 'd_1380', 'd_1381', 'd_1382', 'd_1383', 'd_1384', 'd_1385', 'd_1386', 'd_1387', 'd_1388', 'd_1389', 'd_1390', 'd_1391', 'd_1392', 'd_1393', 'd_1394', 'd_1395', 'd_1396', 'd_1397', 'd_1398', 'd_1399', 'd_1400', 'd_1401', 'd_1402', 'd_1403', 'd_1404', 'd_1405', 'd_1406', 'd_1407', 'd_1408', 'd_1409', 'd_1410', 'd_1411', 'd_1412', 'd_1413', 'd_1414', 'd_1415', 'd_1416', 'd_1417', 'd_1418', 'd_1419', 'd_1420', 'd_1421', 'd_1422', 'd_1423', 'd_1424', 'd_1425', 'd_1426', 'd_1427', 'd_1428', 'd_1429', 'd_1430', 'd_1431', 'd_1432', 'd_1433', 'd_1434', 'd_1435', 'd_1436', 'd_1437', 'd_1438', 'd_1439', 'd_1440', 'd_1441', 'd_1442', 'd_1443', 'd_1444', 'd_1445', 'd_1446', 'd_1447', 'd_1448', 'd_1449', 'd_1450', 'd_1451', 'd_1452', 'd_1453', 'd_1454', 'd_1455', 'd_1456', 'd_1457', 'd_1458', 'd_1459', 'd_1460', 'd_1461', 'd_1462', 'd_1463', 'd_1464', 'd_1465', 'd_1466', 'd_1467', 'd_1468', 'd_1469', 'd_1470', 'd_1471', 'd_1472', 'd_1473', 'd_1474', 'd_1475', 'd_1476', 'd_1477', 'd_1478', 'd_1479', 'd_1480', 'd_1481', 'd_1482', 'd_1483', 'd_1484', 'd_1485', 'd_1486', 'd_1487', 'd_1488', 'd_1489', 'd_1490', 'd_1491', 'd_1492', 'd_1493', 'd_1494', 'd_1495', 'd_1496', 'd_1497', 'd_1498', 'd_1499', 'd_1500', 'd_1501', 'd_1502', 'd_1503', 'd_1504', 'd_1505', 'd_1506', 'd_1507', 'd_1508', 'd_1509', 'd_1510', 'd_1511', 'd_1512', 'd_1513', 'd_1514', 'd_1515', 'd_1516', 'd_1517', 'd_1518', 'd_1519', 'd_1520', 'd_1521', 'd_1522', 'd_1523', 'd_1524', 'd_1525', 'd_1526', 'd_1527', 'd_1528', 'd_1529', 'd_1530', 'd_1531', 'd_1532', 'd_1533', 'd_1534', 'd_1535', 'd_1536', 'd_1537', 'd_1538', 'd_1539', 'd_1540', 'd_1541', 'd_1542', 'd_1543', 'd_1544', 'd_1545', 'd_1546', 'd_1547', 'd_1548', 'd_1549', 'd_1550', 'd_1551', 'd_1552', 'd_1553', 'd_1554', 'd_1555', 'd_1556', 'd_1557', 'd_1558', 'd_1559', 'd_1560', 'd_1561', 'd_1562', 'd_1563', 'd_1564', 'd_1565', 'd_1566', 'd_1567', 'd_1568', 'd_1569', 'd_1570', 'd_1571', 'd_1572', 'd_1573', 'd_1574', 'd_1575', 'd_1576', 'd_1577', 'd_1578', 'd_1579', 'd_1580', 'd_1581', 'd_1582', 'd_1583', 'd_1584', 'd_1585', 'd_1586', 'd_1587', 'd_1588', 'd_1589', 'd_1590', 'd_1591', 'd_1592', 'd_1593', 'd_1594', 'd_1595', 'd_1596', 'd_1597', 'd_1598', 'd_1599', 'd_1600', 'd_1601', 'd_1602', 'd_1603', 'd_1604', 'd_1605', 'd_1606', 'd_1607', 'd_1608', 'd_1609', 'd_1610', 'd_1611', 'd_1612', 'd_1613', 'd_1614', 'd_1615', 'd_1616', 'd_1617', 'd_1618', 'd_1619', 'd_1620', 'd_1621', 'd_1622', 'd_1623', 'd_1624', 'd_1625', 'd_1626', 'd_1627', 'd_1628', 'd_1629', 'd_1630', 'd_1631', 'd_1632', 'd_1633', 'd_1634', 'd_1635', 'd_1636', 'd_1637', 'd_1638', 'd_1639', 'd_1640', 'd_1641', 'd_1642', 'd_1643', 'd_1644', 'd_1645', 'd_1646', 'd_1647', 'd_1648', 'd_1649', 'd_1650', 'd_1651', 'd_1652', 'd_1653', 'd_1654', 'd_1655', 'd_1656', 'd_1657', 'd_1658', 'd_1659', 'd_1660', 'd_1661', 'd_1662', 'd_1663', 'd_1664', 'd_1665', 'd_1666', 'd_1667', 'd_1668', 'd_1669', 'd_1670', 'd_1671', 'd_1672', 'd_1673', 'd_1674', 'd_1675', 'd_1676', 'd_1677', 'd_1678', 'd_1679', 'd_1680', 'd_1681', 'd_1682', 'd_1683', 'd_1684', 'd_1685', 'd_1686', 'd_1687', 'd_1688', 'd_1689', 'd_1690', 'd_1691', 'd_1692', 'd_1693', 'd_1694', 'd_1695', 'd_1696', 'd_1697', 'd_1698', 'd_1699', 'd_1700', 'd_1701', 'd_1702', 'd_1703', 'd_1704', 'd_1705', 'd_1706', 'd_1707', 'd_1708', 'd_1709', 'd_1710', 'd_1711', 'd_1712', 'd_1713', 'd_1714', 'd_1715', 'd_1716', 'd_1717', 'd_1718', 'd_1719', 'd_1720', 'd_1721', 'd_1722', 'd_1723', 'd_1724', 'd_1725', 'd_1726', 'd_1727', 'd_1728', 'd_1729', 'd_1730', 'd_1731', 'd_1732', 'd_1733', 'd_1734', 'd_1735', 'd_1736', 'd_1737', 'd_1738', 'd_1739', 'd_1740', 'd_1741', 'd_1742', 'd_1743', 'd_1744', 'd_1745', 'd_1746', 'd_1747', 'd_1748', 'd_1749', 'd_1750', 'd_1751', 'd_1752', 'd_1753', 'd_1754', 'd_1755', 'd_1756', 'd_1757', 'd_1758', 'd_1759', 'd_1760', 'd_1761', 'd_1762', 'd_1763', 'd_1764', 'd_1765', 'd_1766', 'd_1767', 'd_1768', 'd_1769', 'd_1770', 'd_1771', 'd_1772', 'd_1773', 'd_1774', 'd_1775', 'd_1776', 'd_1777', 'd_1778', 'd_1779', 'd_1780', 'd_1781', 'd_1782', 'd_1783', 'd_1784', 'd_1785', 'd_1786', 'd_1787', 'd_1788', 'd_1789', 'd_1790', 'd_1791', 'd_1792', 'd_1793', 'd_1794', 'd_1795', 'd_1796', 'd_1797', 'd_1798', 'd_1799', 'd_1800', 'd_1801', 'd_1802', 'd_1803', 'd_1804', 'd_1805', 'd_1806', 'd_1807', 'd_1808', 'd_1809', 'd_1810', 'd_1811', 'd_1812', 'd_1813', 'd_1814', 'd_1815', 'd_1816', 'd_1817', 'd_1818', 'd_1819', 'd_1820', 'd_1821', 'd_1822', 'd_1823', 'd_1824', 'd_1825', 'd_1826', 'd_1827', 'd_1828', 'd_1829', 'd_1830', 'd_1831', 'd_1832', 'd_1833', 'd_1834', 'd_1835', 'd_1836', 'd_1837', 'd_1838', 'd_1839', 'd_1840', 'd_1841', 'd_1842', 'd_1843', 'd_1844', 'd_1845', 'd_1846', 'd_1847', 'd_1848', 'd_1849', 'd_1850', 'd_1851', 'd_1852', 'd_1853', 'd_1854', 'd_1855', 'd_1856', 'd_1857', 'd_1858', 'd_1859', 'd_1860', 'd_1861', 'd_1862', 'd_1863', 'd_1864', 'd_1865', 'd_1866', 'd_1867', 'd_1868', 'd_1869', 'd_1870', 'd_1871', 'd_1872', 'd_1873', 'd_1874', 'd_1875', 'd_1876', 'd_1877', 'd_1878', 'd_1879', 'd_1880', 'd_1881', 'd_1882', 'd_1883', 'd_1884', 'd_1885', 'd_1886', 'd_1887', 'd_1888', 'd_1889', 'd_1890', 'd_1891', 'd_1892', 'd_1893', 'd_1894', 'd_1895', 'd_1896', 'd_1897', 'd_1898', 'd_1899', 'd_1900', 'd_1901', 'd_1902', 'd_1903', 'd_1904', 'd_1905', 'd_1906', 'd_1907', 'd_1908', 'd_1909', 'd_1910', 'd_1911', 'd_1912', 'd_1913', 'd_1914', 'd_1915', 'd_1916', 'd_1917', 'd_1918', 'd_1919', 'd_1920', 'd_1921', 'd_1922', 'd_1923', 'd_1924', 'd_1925', 'd_1926', 'd_1927', 'd_1928', 'd_1929', 'd_1930', 'd_1931', 'd_1932', 'd_1933', 'd_1934', 'd_1935', 'd_1936', 'd_1937', 'd_1938', 'd_1939', 'd_1940', 'd_1941']\n",
      "  unique forecasts: 30490\n",
      "   N_unique item_id: 3049\n",
      "   N_unique dept_id: 7\n",
      "   N_unique cat_id: 3\n",
      "   N_unique store_id: 10\n",
      "   N_unique state_id: 3\n"
     ]
    }
   ],
   "source": [
    "# Get column groups\n",
    "categorical_cols = ['item_id', 'dept_id', 'cat_id', 'store_id', 'state_id']\n",
    "ts_cols = [col for col in train_df.columns if col not in categorical_cols]\n",
    "print(ts_cols)\n",
    "ts_dict = {t: int(t[2:]) for t in ts_cols[1:]}\n",
    "\n",
    "# Describe data\n",
    "print('  unique forecasts: %i' % len(train_df.id.unique()))\n",
    "for col in categorical_cols:\n",
    "    print('   N_unique %s: %i' % (col, train_df[col].nunique()))"
   ]
  },
  {
   "cell_type": "markdown",
   "metadata": {
    "id": "6K-w7TuHFJ74"
   },
   "source": [
    " We can see from the above that we have 3049 unique items, 7 departments, Three main categories, 10 stores and lastly 3 states in our data"
   ]
  },
  {
   "cell_type": "markdown",
   "metadata": {
    "id": "-Wsh3TKm-jK7"
   },
   "source": [
    "## Let us take a subset of the data and perform feature engineering"
   ]
  },
  {
   "cell_type": "markdown",
   "metadata": {
    "id": "FoAOQfSebUFg"
   },
   "source": []
  },
  {
   "cell_type": "markdown",
   "metadata": {
    "id": "wOcSqa6yS8ql"
   },
   "source": [
    "Under this section we will seek to:\n",
    "\n",
    "1) Create new features and find their relationship with the sales\n",
    "\n",
    "2) Remove redundant(useless) features\n",
    "\n",
    "3) Remove outliers where necessary\n",
    "\n",
    "4) Deal with Nan Values"
   ]
  },
  {
   "cell_type": "code",
   "execution_count": null,
   "metadata": {
    "colab": {
     "base_uri": "https://localhost:8080/"
    },
    "id": "uEqfWGlJiGWR",
    "outputId": "6a8d532c-1c48-4b3b-83dd-5c0f9ef895d8"
   },
   "outputs": [
    {
     "name": "stdout",
     "output_type": "stream",
     "text": [
      "<class 'pandas.core.frame.DataFrame'>\n",
      "RangeIndex: 30490 entries, 0 to 30489\n",
      "Columns: 1947 entries, id to d_1941\n",
      "dtypes: int16(1317), int8(624), object(6)\n",
      "memory usage: 96.1+ MB\n"
     ]
    }
   ],
   "source": [
    "train_df.info()"
   ]
  },
  {
   "cell_type": "code",
   "execution_count": null,
   "metadata": {
    "colab": {
     "base_uri": "https://localhost:8080/"
    },
    "id": "FY71VMMcnVSi",
    "outputId": "f3cb3400-8b15-4db7-ab44-43c89c47aa60"
   },
   "outputs": [
    {
     "data": {
      "text/plain": [
       "30490"
      ]
     },
     "execution_count": 63,
     "metadata": {},
     "output_type": "execute_result"
    }
   ],
   "source": [
    "len(train_df)"
   ]
  },
  {
   "cell_type": "code",
   "execution_count": null,
   "metadata": {
    "id": "PegMdmr8hzuI"
   },
   "outputs": [],
   "source": [
    "train_df_sub = train_df#.loc[:2000,:]"
   ]
  },
  {
   "cell_type": "code",
   "execution_count": null,
   "metadata": {
    "id": "3pGipSgMCkDj"
   },
   "outputs": [],
   "source": [
    "prices_df_sub = prices_df#.loc[:2000, :]"
   ]
  },
  {
   "cell_type": "markdown",
   "metadata": {
    "id": "plagUR9XFqNQ"
   },
   "source": [
    "### A function is defined below to help with the merging of dataframes"
   ]
  },
  {
   "cell_type": "code",
   "execution_count": null,
   "metadata": {
    "id": "7FWto9LWZhEZ"
   },
   "outputs": [],
   "source": [
    "\n",
    "def merge_by_frames(df1, df2, merge_on):\n",
    "    merged_gf = df1[merge_on]\n",
    "    merged_gf = pd.DataFrame(merged_gf).merge(df2, on=merge_on, how='left')\n",
    "    new_columns = [col for col in list(merged_gf) if col not in merge_on]\n",
    "    df1 = pd.concat([df1, merged_gf[new_columns]], axis=1)\n",
    "    return df1\n",
    "\n"
   ]
  },
  {
   "cell_type": "code",
   "execution_count": null,
   "metadata": {
    "id": "Dfh7w9MeHd-b"
   },
   "outputs": [],
   "source": [
    "TARGET = 'sales'         # Our main target\n",
    "END_TRAIN = 1913         # Last day in train set, we will extend the dataframe for the next 28 days\n",
    "MAIN_INDEX = ['id','d']"
   ]
  },
  {
   "cell_type": "code",
   "execution_count": null,
   "metadata": {
    "id": "rTDKQ80LG0gi"
   },
   "outputs": [],
   "source": []
  },
  {
   "cell_type": "markdown",
   "metadata": {
    "id": "6SDpBmQ7G1TJ"
   },
   "source": [
    "### We will create a new data frame and transpose the horizontal day columnns to one new column and merge the train, prices and calendar data frames"
   ]
  },
  {
   "cell_type": "code",
   "execution_count": null,
   "metadata": {
    "id": "dZvmORhlHeRG"
   },
   "outputs": [],
   "source": [
    "\n",
    "index_columns = ['id','item_id','dept_id','cat_id','store_id','state_id']\n",
    "new_df = pd.melt(train_df_sub, \n",
    "                  id_vars = index_columns, \n",
    "                  var_name = 'd', \n",
    "                  value_name = TARGET)\n",
    "\n",
    "# For predictions' sake we will create a new dataframe and join to the \n",
    "# current one for predictions over  the next 28 days \n",
    "\n",
    "grid = pd.DataFrame()  # create an empty dataframe and fill in with values\n",
    "for i in range(1,29):\n",
    "    temp_df = train_df_sub[index_columns]\n",
    "    temp_df = temp_df.drop_duplicates()\n",
    "    temp_df['d'] = 'd_'+ str(END_TRAIN+i)\n",
    "    temp_df[TARGET] = np.nan\n",
    "    grid = pd.concat([grid,temp_df])\n",
    "\n",
    "new_df = pd.concat([new_df,grid])\n",
    "new_df = new_df.reset_index(drop=True)\n",
    "\n",
    "# SAVING MEMORY by deleting the frames below\n",
    "del temp_df, grid\n",
    "del train_df_sub\n",
    "\n",
    "new_df.reset_index(drop=True, inplace=True)\n",
    "\n",
    "# convert the string types to category to save space\n",
    "for col in index_columns:\n",
    "    new_df[col] = new_df[col].astype('category')\n"
   ]
  },
  {
   "cell_type": "markdown",
   "metadata": {
    "id": "94eaHyTrHS3P"
   },
   "source": [
    "We make the following assumptions:\n",
    "1. Leading Zero values in the train data frame means the item was not available in the store and hence out of stock\n",
    "\n",
    "2. Prices in the store are set at the beggining of the week"
   ]
  },
  {
   "cell_type": "code",
   "execution_count": null,
   "metadata": {
    "id": "-sWXCiNqHeYi"
   },
   "outputs": [],
   "source": [
    "# We will create a new data frame  and pick the minimum of the \n",
    "release_df = prices_df_sub.groupby(['store_id','item_id'])['wm_yr_wk'].agg(['min']).reset_index()\n",
    "release_df.columns = ['store_id','item_id','release']\n",
    "\n",
    "# Now we can merge release_df\n",
    "new_df = merge_by_frames(new_df, release_df, ['store_id','item_id'])\n",
    "del release_df\n",
    "\n",
    "# We want to remove some \"zeros\" rows\n",
    "# from grid_df \n",
    "# to do it we need wm_yr_wk column let's merge partly calendar_df to have it\n",
    "new_df = merge_by_frames(new_df, calendar_df[['wm_yr_wk','d']], ['d'])\n",
    "                      \n",
    "# Now we can cutoff some rows \n",
    "# and safe memory \n",
    "####grid_df = grid_df[grid_df['wm_yr_wk']>=grid_df['release']]\n",
    "new_df = new_df.reset_index(drop=True)\n",
    "\n",
    "# Let's check our memory usage\n",
    "#print(\"{:>20}: {:>8}\".format('Original grid_df',sizeof_fmt(grid_df.memory_usage(index=True).sum())))\n",
    "\n",
    "# Should we keep release week \n",
    "\n",
    "new_df['release'] = new_df['release'] - new_df['release'].min()\n",
    "\n",
    "\n"
   ]
  },
  {
   "cell_type": "code",
   "execution_count": null,
   "metadata": {
    "colab": {
     "base_uri": "https://localhost:8080/",
     "height": 270
    },
    "id": "5j49r8WFHeb7",
    "outputId": "2e05f047-c37f-44a1-adc8-a04f098d59c5"
   },
   "outputs": [
    {
     "data": {
      "text/html": [
       "\n",
       "  <div id=\"df-eaca1b87-97bc-424c-88b8-a2157c5dc2e7\">\n",
       "    <div class=\"colab-df-container\">\n",
       "      <div>\n",
       "<style scoped>\n",
       "    .dataframe tbody tr th:only-of-type {\n",
       "        vertical-align: middle;\n",
       "    }\n",
       "\n",
       "    .dataframe tbody tr th {\n",
       "        vertical-align: top;\n",
       "    }\n",
       "\n",
       "    .dataframe thead th {\n",
       "        text-align: right;\n",
       "    }\n",
       "</style>\n",
       "<table border=\"1\" class=\"dataframe\">\n",
       "  <thead>\n",
       "    <tr style=\"text-align: right;\">\n",
       "      <th></th>\n",
       "      <th>id</th>\n",
       "      <th>item_id</th>\n",
       "      <th>dept_id</th>\n",
       "      <th>cat_id</th>\n",
       "      <th>store_id</th>\n",
       "      <th>state_id</th>\n",
       "      <th>d</th>\n",
       "      <th>sales</th>\n",
       "      <th>release</th>\n",
       "      <th>wm_yr_wk</th>\n",
       "    </tr>\n",
       "  </thead>\n",
       "  <tbody>\n",
       "    <tr>\n",
       "      <th>0</th>\n",
       "      <td>HOBBIES_1_001_CA_1_evaluation</td>\n",
       "      <td>HOBBIES_1_001</td>\n",
       "      <td>HOBBIES_1</td>\n",
       "      <td>HOBBIES</td>\n",
       "      <td>CA_1</td>\n",
       "      <td>CA</td>\n",
       "      <td>d_1</td>\n",
       "      <td>0.0</td>\n",
       "      <td>224.0</td>\n",
       "      <td>11101</td>\n",
       "    </tr>\n",
       "    <tr>\n",
       "      <th>1</th>\n",
       "      <td>HOBBIES_1_002_CA_1_evaluation</td>\n",
       "      <td>HOBBIES_1_002</td>\n",
       "      <td>HOBBIES_1</td>\n",
       "      <td>HOBBIES</td>\n",
       "      <td>CA_1</td>\n",
       "      <td>CA</td>\n",
       "      <td>d_1</td>\n",
       "      <td>0.0</td>\n",
       "      <td>20.0</td>\n",
       "      <td>11101</td>\n",
       "    </tr>\n",
       "    <tr>\n",
       "      <th>2</th>\n",
       "      <td>HOBBIES_1_003_CA_1_evaluation</td>\n",
       "      <td>HOBBIES_1_003</td>\n",
       "      <td>HOBBIES_1</td>\n",
       "      <td>HOBBIES</td>\n",
       "      <td>CA_1</td>\n",
       "      <td>CA</td>\n",
       "      <td>d_1</td>\n",
       "      <td>0.0</td>\n",
       "      <td>300.0</td>\n",
       "      <td>11101</td>\n",
       "    </tr>\n",
       "    <tr>\n",
       "      <th>3</th>\n",
       "      <td>HOBBIES_1_004_CA_1_evaluation</td>\n",
       "      <td>HOBBIES_1_004</td>\n",
       "      <td>HOBBIES_1</td>\n",
       "      <td>HOBBIES</td>\n",
       "      <td>CA_1</td>\n",
       "      <td>CA</td>\n",
       "      <td>d_1</td>\n",
       "      <td>0.0</td>\n",
       "      <td>5.0</td>\n",
       "      <td>11101</td>\n",
       "    </tr>\n",
       "    <tr>\n",
       "      <th>4</th>\n",
       "      <td>HOBBIES_1_005_CA_1_evaluation</td>\n",
       "      <td>HOBBIES_1_005</td>\n",
       "      <td>HOBBIES_1</td>\n",
       "      <td>HOBBIES</td>\n",
       "      <td>CA_1</td>\n",
       "      <td>CA</td>\n",
       "      <td>d_1</td>\n",
       "      <td>0.0</td>\n",
       "      <td>16.0</td>\n",
       "      <td>11101</td>\n",
       "    </tr>\n",
       "  </tbody>\n",
       "</table>\n",
       "</div>\n",
       "      <button class=\"colab-df-convert\" onclick=\"convertToInteractive('df-eaca1b87-97bc-424c-88b8-a2157c5dc2e7')\"\n",
       "              title=\"Convert this dataframe to an interactive table.\"\n",
       "              style=\"display:none;\">\n",
       "        \n",
       "  <svg xmlns=\"http://www.w3.org/2000/svg\" height=\"24px\"viewBox=\"0 0 24 24\"\n",
       "       width=\"24px\">\n",
       "    <path d=\"M0 0h24v24H0V0z\" fill=\"none\"/>\n",
       "    <path d=\"M18.56 5.44l.94 2.06.94-2.06 2.06-.94-2.06-.94-.94-2.06-.94 2.06-2.06.94zm-11 1L8.5 8.5l.94-2.06 2.06-.94-2.06-.94L8.5 2.5l-.94 2.06-2.06.94zm10 10l.94 2.06.94-2.06 2.06-.94-2.06-.94-.94-2.06-.94 2.06-2.06.94z\"/><path d=\"M17.41 7.96l-1.37-1.37c-.4-.4-.92-.59-1.43-.59-.52 0-1.04.2-1.43.59L10.3 9.45l-7.72 7.72c-.78.78-.78 2.05 0 2.83L4 21.41c.39.39.9.59 1.41.59.51 0 1.02-.2 1.41-.59l7.78-7.78 2.81-2.81c.8-.78.8-2.07 0-2.86zM5.41 20L4 18.59l7.72-7.72 1.47 1.35L5.41 20z\"/>\n",
       "  </svg>\n",
       "      </button>\n",
       "      \n",
       "  <style>\n",
       "    .colab-df-container {\n",
       "      display:flex;\n",
       "      flex-wrap:wrap;\n",
       "      gap: 12px;\n",
       "    }\n",
       "\n",
       "    .colab-df-convert {\n",
       "      background-color: #E8F0FE;\n",
       "      border: none;\n",
       "      border-radius: 50%;\n",
       "      cursor: pointer;\n",
       "      display: none;\n",
       "      fill: #1967D2;\n",
       "      height: 32px;\n",
       "      padding: 0 0 0 0;\n",
       "      width: 32px;\n",
       "    }\n",
       "\n",
       "    .colab-df-convert:hover {\n",
       "      background-color: #E2EBFA;\n",
       "      box-shadow: 0px 1px 2px rgba(60, 64, 67, 0.3), 0px 1px 3px 1px rgba(60, 64, 67, 0.15);\n",
       "      fill: #174EA6;\n",
       "    }\n",
       "\n",
       "    [theme=dark] .colab-df-convert {\n",
       "      background-color: #3B4455;\n",
       "      fill: #D2E3FC;\n",
       "    }\n",
       "\n",
       "    [theme=dark] .colab-df-convert:hover {\n",
       "      background-color: #434B5C;\n",
       "      box-shadow: 0px 1px 3px 1px rgba(0, 0, 0, 0.15);\n",
       "      filter: drop-shadow(0px 1px 2px rgba(0, 0, 0, 0.3));\n",
       "      fill: #FFFFFF;\n",
       "    }\n",
       "  </style>\n",
       "\n",
       "      <script>\n",
       "        const buttonEl =\n",
       "          document.querySelector('#df-eaca1b87-97bc-424c-88b8-a2157c5dc2e7 button.colab-df-convert');\n",
       "        buttonEl.style.display =\n",
       "          google.colab.kernel.accessAllowed ? 'block' : 'none';\n",
       "\n",
       "        async function convertToInteractive(key) {\n",
       "          const element = document.querySelector('#df-eaca1b87-97bc-424c-88b8-a2157c5dc2e7');\n",
       "          const dataTable =\n",
       "            await google.colab.kernel.invokeFunction('convertToInteractive',\n",
       "                                                     [key], {});\n",
       "          if (!dataTable) return;\n",
       "\n",
       "          const docLinkHtml = 'Like what you see? Visit the ' +\n",
       "            '<a target=\"_blank\" href=https://colab.research.google.com/notebooks/data_table.ipynb>data table notebook</a>'\n",
       "            + ' to learn more about interactive tables.';\n",
       "          element.innerHTML = '';\n",
       "          dataTable['output_type'] = 'display_data';\n",
       "          await google.colab.output.renderOutput(dataTable, element);\n",
       "          const docLink = document.createElement('div');\n",
       "          docLink.innerHTML = docLinkHtml;\n",
       "          element.appendChild(docLink);\n",
       "        }\n",
       "      </script>\n",
       "    </div>\n",
       "  </div>\n",
       "  "
      ],
      "text/plain": [
       "                              id        item_id    dept_id   cat_id store_id  \\\n",
       "0  HOBBIES_1_001_CA_1_evaluation  HOBBIES_1_001  HOBBIES_1  HOBBIES     CA_1   \n",
       "1  HOBBIES_1_002_CA_1_evaluation  HOBBIES_1_002  HOBBIES_1  HOBBIES     CA_1   \n",
       "2  HOBBIES_1_003_CA_1_evaluation  HOBBIES_1_003  HOBBIES_1  HOBBIES     CA_1   \n",
       "3  HOBBIES_1_004_CA_1_evaluation  HOBBIES_1_004  HOBBIES_1  HOBBIES     CA_1   \n",
       "4  HOBBIES_1_005_CA_1_evaluation  HOBBIES_1_005  HOBBIES_1  HOBBIES     CA_1   \n",
       "\n",
       "  state_id    d  sales  release  wm_yr_wk  \n",
       "0       CA  d_1    0.0    224.0     11101  \n",
       "1       CA  d_1    0.0     20.0     11101  \n",
       "2       CA  d_1    0.0    300.0     11101  \n",
       "3       CA  d_1    0.0      5.0     11101  \n",
       "4       CA  d_1    0.0     16.0     11101  "
      ]
     },
     "execution_count": 22,
     "metadata": {},
     "output_type": "execute_result"
    }
   ],
   "source": [
    "new_df.head()"
   ]
  },
  {
   "cell_type": "code",
   "execution_count": null,
   "metadata": {
    "colab": {
     "base_uri": "https://localhost:8080/"
    },
    "id": "A5uXtMdzHee7",
    "outputId": "4f5713ee-4638-4bad-d220-8e46fe357c82"
   },
   "outputs": [
    {
     "name": "stdout",
     "output_type": "stream",
     "text": [
      "Save Part 1\n",
      "Size: (3939969, 10)\n"
     ]
    }
   ],
   "source": [
    "print('Save Part 1')\n",
    "\n",
    "# We have our BASE grid ready\n",
    "# and can save it as pickle file\n",
    "# for future use (model training)\n",
    "new_df.to_pickle('grid_part_1.pkl')\n",
    "\n",
    "print('Size:', new_df.shape)"
   ]
  },
  {
   "cell_type": "markdown",
   "metadata": {
    "id": "TT7V5SjaRsTe"
   },
   "source": [
    "### Finanlly we will merge with the prices data"
   ]
  },
  {
   "cell_type": "code",
   "execution_count": null,
   "metadata": {
    "id": "fvy-JcPxHehp"
   },
   "outputs": [],
   "source": [
    "# replacing all the missing values in sell_prices with the mean\n",
    "prices_df_sub['sell_price'] = prices_df_sub['sell_price'].fillna(prices_df_sub.groupby(['store_id','item_id',])['sell_price'].transform('mean'))\n",
    "\n",
    "# for every store and every item in that store we determine the  aggregates max,min,std and mean of price\n",
    "prices_df_sub['price_max'] = prices_df_sub.groupby(['store_id','item_id'])['sell_price'].transform('max')\n",
    "prices_df_sub['price_min'] = prices_df_sub.groupby(['store_id','item_id'])['sell_price'].transform('min')\n",
    "prices_df_sub['price_std'] = prices_df_sub.groupby(['store_id','item_id'])['sell_price'].transform('std')\n",
    "prices_df_sub['price_mean'] = prices_df_sub.groupby(['store_id','item_id'])['sell_price'].transform('mean')\n",
    "\n",
    "# price normalization (min/max scaling)\n",
    "prices_df_sub['price_norm'] = prices_df_sub['sell_price']/prices_df_sub['price_max']\n",
    "\n",
    "# Some items are can be inflation dependent\n",
    "# and some items are very \"stable\"\n",
    "prices_df_sub['price_nunique'] = prices_df_sub.groupby(['store_id','item_id'])['sell_price'].transform('nunique')\n",
    "prices_df_sub['item_nunique'] = prices_df_sub.groupby(['store_id','sell_price'])['item_id'].transform('nunique')\n",
    "\n",
    "# I would like some \"rolling\" aggregations\n",
    "# but would like months and years as \"window\"\n",
    "calendar_prices = calendar_df[['wm_yr_wk','month','year']]\n",
    "calendar_prices = calendar_prices.drop_duplicates(subset=['wm_yr_wk'])\n",
    "prices_df_sub = prices_df_sub.merge(calendar_prices[['wm_yr_wk','month','year']], on=['wm_yr_wk'], how='left')\n",
    "del calendar_prices\n",
    "\n",
    "# Now we can add price \"momentum\" (some sort of)\n",
    "# Shifted by week \n",
    "# by month mean\n",
    "# by year mean\n",
    "prices_df_sub['price_momentum'] = prices_df_sub['sell_price']/prices_df_sub.groupby(['store_id','item_id'])['sell_price'].transform(lambda x: x.shift(1))\n",
    "prices_df_sub['price_momentum_m'] = prices_df_sub['sell_price']/prices_df_sub.groupby(['store_id','item_id','month'])['sell_price'].transform('mean')\n",
    "prices_df_sub['price_momentum_y'] = prices_df_sub['sell_price']/prices_df_sub.groupby(['store_id','item_id','year'])['sell_price'].transform('mean')\n",
    "\n",
    "\n",
    "del prices_df_sub['month'], prices_df_sub['year']"
   ]
  },
  {
   "cell_type": "markdown",
   "metadata": {
    "id": "WAAWeopixOh9"
   },
   "source": []
  },
  {
   "cell_type": "code",
   "execution_count": null,
   "metadata": {
    "colab": {
     "base_uri": "https://localhost:8080/"
    },
    "id": "ver6q57YM9wp",
    "outputId": "e8096186-0f13-4a43-8fcf-88069242fe88"
   },
   "outputs": [
    {
     "name": "stdout",
     "output_type": "stream",
     "text": [
      "Mem. usage decreased to 150.38 Mb (31.0% reduction)\n",
      "Size: (3939969, 13)\n"
     ]
    }
   ],
   "source": [
    "\n",
    "\n",
    "# Merge Prices\n",
    "original_columns = list(new_df)\n",
    "new_df = new_df.merge(prices_df_sub, on=['store_id','item_id','wm_yr_wk'], how='left')\n",
    "keep_columns = [col for col in list(new_df) if col not in original_columns]\n",
    "new_df = new_df[MAIN_INDEX+keep_columns]\n",
    "new_df = reduce_mem_usage(new_df)\n",
    "\n",
    "# Save part 2\n",
    "new_df.to_pickle('grid_part_2.pkl')\n",
    "print('Size:', new_df.shape)\n",
    "\n",
    "# We don't need prices_df anymore\n",
    "del prices_df\n",
    "\n",
    "# We can remove new columns\n",
    "# or just load part_1\n",
    "grid_df = pd.read_pickle('grid_part_1.pkl')"
   ]
  },
  {
   "cell_type": "markdown",
   "metadata": {
    "id": "stIWhp-nS8ij"
   },
   "source": [
    "### We will now merge with our calendar data"
   ]
  },
  {
   "cell_type": "code",
   "execution_count": null,
   "metadata": {
    "id": "lG0qSbDyM92H"
   },
   "outputs": [],
   "source": [
    "\n",
    "new_df = new_df[MAIN_INDEX]\n",
    "\n",
    "# Merge calendar partly\n",
    "icols = ['date',\n",
    "         'd',\n",
    "         'event_name_1',\n",
    "         'event_type_1',\n",
    "         'event_name_2',\n",
    "         'event_type_2',\n",
    "         'snap_CA',\n",
    "         'snap_TX',\n",
    "         'snap_WI',\n",
    "         'wday']\n",
    "\n",
    "new_df = new_df.merge(calendar_df[icols], on=['d'], how='left')\n",
    "new_df.event_type_1 = new_df.event_type_1.fillna('normal_day')\n",
    "new_df.event_type_2 = new_df.event_type_2.fillna('normal_day')\n",
    "new_df.event_name_1 = new_df.event_name_1.fillna('normal_day')\n",
    "new_df.event_name_2 = new_df.event_name_2.fillna('normal_day')\n",
    "\n",
    "\n",
    "\n",
    "\n",
    "#Adding feature 'month_day' which tells day of the month\n",
    "m=new_df[\"date\"].tolist()\n",
    "m=[i.split(\"-\")[2] for i in m]\n",
    "new_df[\"month_day\"]=m\n",
    "new_df['month_day']=new_df['month_day'].astype(np.int8)\n",
    "\n",
    "\n",
    "\n",
    "#Adding feature 'month_week_number' which tells which week of the month\n",
    "new_df['month_week_number']=(new_df['month_day']-1) // 7 + 1 \n",
    "new_df['month_week_number']=new_df['month_week_number'].astype(np.int8)\n",
    "\n",
    "#Adding feature 'events_per_day' which tells us number of events on particular day\n",
    "f=lambda x: 0 if x=='normal_day' else 1\n",
    "new_df['events_per_day']=new_df['event_type_1'].map(f) \n",
    "index=new_df.index \n",
    "indices=index[new_df['event_type_2']!='normal_day'].tolist()\n",
    "for i in indices:\n",
    "  new_df['events_per_day'][i]+=1\n",
    "new_df['events_per_day']=new_df['events_per_day'].astype(np.int8)\n",
    "\n",
    "\n",
    "# Minify data\n",
    "# 'snap_' columns we can convert to bool or int8\n",
    "icols = ['event_name_1',\n",
    "         'event_type_1',\n",
    "         'event_name_2',\n",
    "         'event_type_2',\n",
    "         'snap_CA',\n",
    "         'snap_TX',\n",
    "         'snap_WI',\n",
    "         'wday']\n",
    "for col in icols:\n",
    "    new_df[col] = new_df[col].astype('category')\n",
    "\n",
    "# Convert to DateTime\n",
    "new_df['date'] = pd.to_datetime(new_df['date'])\n",
    "\n",
    "# Make some features from date\n",
    "new_df['tm_d'] = new_df['date'].dt.day.astype(np.int8)\n",
    "\n",
    "#Adding feature 'is_weekend' which tells about that day is weekend or not\n",
    "\n",
    "f=lambda x: 1 if x<=2 else 0\n",
    "new_df['is_weekend']=new_df['wday'].map(f) \n",
    "new_df['is_weekend']=new_df['is_weekend'].astype(np.int8)\n",
    "new_df['tm_w'] = new_df['date'].dt.week.astype(np.int8)\n",
    "new_df['tm_m'] = new_df['date'].dt.month.astype(np.int8)\n",
    "new_df['tm_y'] = new_df['date'].dt.year\n",
    "new_df['tm_y'] = (new_df['tm_y'] - new_df['tm_y'].min()).astype(np.int8)\n",
    "new_df['tm_wm'] = new_df['tm_d'].apply(lambda x: ceil(x/7)).astype(np.int8)\n",
    "\n",
    "new_df['tm_dw'] = new_df['date'].dt.dayofweek.astype(np.int8)\n",
    "new_df['tm_w_end'] = (new_df['tm_dw']>=5).astype(np.int8)\n"
   ]
  },
  {
   "cell_type": "code",
   "execution_count": null,
   "metadata": {
    "id": "lYjFVIR3fhBs"
   },
   "outputs": [],
   "source": [
    "del new_df['date']"
   ]
  },
  {
   "cell_type": "code",
   "execution_count": null,
   "metadata": {
    "colab": {
     "base_uri": "https://localhost:8080/"
    },
    "id": "Fa-V8WE3M981",
    "outputId": "18678ed1-6035-4060-ce07-49f8af560698"
   },
   "outputs": [
    {
     "name": "stdout",
     "output_type": "stream",
     "text": [
      "Size: (3939969, 21)\n"
     ]
    }
   ],
   "source": [
    "# Safe  final part\n",
    "new_df.to_pickle('new_df.pkl')\n",
    "print('Size:', new_df.shape)\n",
    "\n",
    "# We don't need calendar_df anymore\n",
    "#del calendar_df\n",
    "#del grid_df"
   ]
  },
  {
   "cell_type": "code",
   "execution_count": null,
   "metadata": {
    "id": "6vUG2yXbM-Fo"
   },
   "outputs": [],
   "source": [
    "########################### Some additional cleaning\n",
    "#################################################################################\n",
    "\n",
    "## Part 1\n",
    "# Convert 'd' to int\n",
    "new_df = pd.read_pickle('grid_part_1.pkl')\n",
    "new_df['d'] = new_df['d'].apply(lambda x: x[2:]).astype(np.int16)\n",
    "\n"
   ]
  },
  {
   "cell_type": "code",
   "execution_count": null,
   "metadata": {
    "id": "Aan9PDFlb9QU"
   },
   "outputs": [],
   "source": [
    "# Remove 'wm_yr_wk'\n",
    "# as test values are not in train set\n",
    "del new_df['wm_yr_wk']\n",
    "new_df.to_pickle('grid_part_1.pkl')\n",
    "\n",
    "del new_df"
   ]
  },
  {
   "cell_type": "code",
   "execution_count": null,
   "metadata": {
    "id": "ruLOciEvDavA"
   },
   "outputs": [],
   "source": [
    "import pandas as pd\n",
    "# Now we have 3 sets of features\n",
    "new_df = pd.concat([pd.read_pickle('grid_part_1.pkl'),\n",
    "                     pd.read_pickle('grid_part_2.pkl').iloc[:,2:],\n",
    "                     pd.read_pickle('new_df.pkl').iloc[:,2:]],\n",
    "                     axis=1)\n",
    "                     \n"
   ]
  },
  {
   "cell_type": "code",
   "execution_count": null,
   "metadata": {
    "colab": {
     "base_uri": "https://localhost:8080/"
    },
    "id": "6E4W3GTXc3jR",
    "outputId": "c60b7c14-c658-41da-a7e9-6025a02cd5c3"
   },
   "outputs": [
    {
     "name": "stdout",
     "output_type": "stream",
     "text": [
      "Size: (3939969, 39)\n"
     ]
    }
   ],
   "source": [
    "# Let's check again memory usage\n",
    "#print(\"{:>20}: {:>8}\".format('Full Grid',sizeof_fmt(grid_df.memory_usage(index=True).sum())))\n",
    "print('Size:', new_df.shape)\n",
    "\n",
    "# 2.5GiB + is is still too big to train our model\n",
    "# (on kaggle with its memory limits)\n",
    "# and we don't have lag features yet\n",
    "# But what if we can train by state_id or shop_id?\n",
    "state_id = 'CA'\n",
    "new_df = new_df[new_df['state_id']==state_id]\n",
    "#print(\"{:>20}: {:>8}\".format('Full Grid',sizeof_fmt(grid_df.memory_usage(index=True).sum())))\n",
    "#           Full Grid:   1.2GiB\n",
    "\n",
    "store_id = 'CA_1'\n",
    "new_df = new_df[new_df['store_id']==store_id]\n",
    "#print(\"{:>20}: {:>8}\".format('Full Grid',sizeof_fmt(grid_df.memory_usage(index=True).sum())))\n",
    "#           Full Grid: 321.2MiB\n",
    "\n"
   ]
  },
  {
   "cell_type": "code",
   "execution_count": null,
   "metadata": {
    "colab": {
     "base_uri": "https://localhost:8080/"
    },
    "id": "pYcqZx9ADax-",
    "outputId": "8fcf3b37-9883-489f-986f-34d6a83db70a"
   },
   "outputs": [
    {
     "name": "stdout",
     "output_type": "stream",
     "text": [
      "<class 'pandas.core.frame.DataFrame'>\n",
      "Int64Index: 3939969 entries, 0 to 3939968\n",
      "Data columns (total 39 columns):\n",
      " #   Column             Dtype   \n",
      "---  ------             -----   \n",
      " 0   id                 category\n",
      " 1   item_id            category\n",
      " 2   dept_id            category\n",
      " 3   cat_id             category\n",
      " 4   store_id           category\n",
      " 5   state_id           category\n",
      " 6   d                  int16   \n",
      " 7   sales              float64 \n",
      " 8   release            float64 \n",
      " 9   sell_price         float16 \n",
      " 10  price_max          float16 \n",
      " 11  price_min          float16 \n",
      " 12  price_std          float16 \n",
      " 13  price_mean         float16 \n",
      " 14  price_norm         float16 \n",
      " 15  price_nunique      float16 \n",
      " 16  item_nunique       float16 \n",
      " 17  price_momentum     float16 \n",
      " 18  price_momentum_m   float16 \n",
      " 19  price_momentum_y   float16 \n",
      " 20  event_name_1       category\n",
      " 21  event_type_1       category\n",
      " 22  event_name_2       category\n",
      " 23  event_type_2       category\n",
      " 24  snap_CA            category\n",
      " 25  snap_TX            category\n",
      " 26  snap_WI            category\n",
      " 27  wday               category\n",
      " 28  month_day          int8    \n",
      " 29  month_week_number  int8    \n",
      " 30  events_per_day     int8    \n",
      " 31  tm_d               int8    \n",
      " 32  is_weekend         int8    \n",
      " 33  tm_w               int8    \n",
      " 34  tm_m               int8    \n",
      " 35  tm_y               int8    \n",
      " 36  tm_wm              int8    \n",
      " 37  tm_dw              int8    \n",
      " 38  tm_w_end           int8    \n",
      "dtypes: category(14), float16(11), float64(2), int16(1), int8(11)\n",
      "memory usage: 281.8 MB\n"
     ]
    }
   ],
   "source": [
    "new_df.info()"
   ]
  },
  {
   "cell_type": "code",
   "execution_count": null,
   "metadata": {
    "colab": {
     "base_uri": "https://localhost:8080/",
     "height": 488
    },
    "id": "zA0Wz05qRbKx",
    "outputId": "6b30a2db-4b52-41bb-9c5f-3adaf8189cc9"
   },
   "outputs": [
    {
     "data": {
      "text/html": [
       "\n",
       "  <div id=\"df-cd7126cb-af38-48f5-861a-e4e07547ffbc\">\n",
       "    <div class=\"colab-df-container\">\n",
       "      <div>\n",
       "<style scoped>\n",
       "    .dataframe tbody tr th:only-of-type {\n",
       "        vertical-align: middle;\n",
       "    }\n",
       "\n",
       "    .dataframe tbody tr th {\n",
       "        vertical-align: top;\n",
       "    }\n",
       "\n",
       "    .dataframe thead th {\n",
       "        text-align: right;\n",
       "    }\n",
       "</style>\n",
       "<table border=\"1\" class=\"dataframe\">\n",
       "  <thead>\n",
       "    <tr style=\"text-align: right;\">\n",
       "      <th></th>\n",
       "      <th>id</th>\n",
       "      <th>item_id</th>\n",
       "      <th>dept_id</th>\n",
       "      <th>cat_id</th>\n",
       "      <th>store_id</th>\n",
       "      <th>state_id</th>\n",
       "      <th>d</th>\n",
       "      <th>sales</th>\n",
       "      <th>release</th>\n",
       "      <th>sell_price</th>\n",
       "      <th>...</th>\n",
       "      <th>month_week_number</th>\n",
       "      <th>events_per_day</th>\n",
       "      <th>tm_d</th>\n",
       "      <th>is_weekend</th>\n",
       "      <th>tm_w</th>\n",
       "      <th>tm_m</th>\n",
       "      <th>tm_y</th>\n",
       "      <th>tm_wm</th>\n",
       "      <th>tm_dw</th>\n",
       "      <th>tm_w_end</th>\n",
       "    </tr>\n",
       "  </thead>\n",
       "  <tbody>\n",
       "    <tr>\n",
       "      <th>0</th>\n",
       "      <td>HOBBIES_1_001_CA_1_evaluation</td>\n",
       "      <td>HOBBIES_1_001</td>\n",
       "      <td>HOBBIES_1</td>\n",
       "      <td>HOBBIES</td>\n",
       "      <td>CA_1</td>\n",
       "      <td>CA</td>\n",
       "      <td>1</td>\n",
       "      <td>0.0</td>\n",
       "      <td>224.0</td>\n",
       "      <td>NaN</td>\n",
       "      <td>...</td>\n",
       "      <td>5</td>\n",
       "      <td>0</td>\n",
       "      <td>29</td>\n",
       "      <td>1</td>\n",
       "      <td>4</td>\n",
       "      <td>1</td>\n",
       "      <td>0</td>\n",
       "      <td>5</td>\n",
       "      <td>5</td>\n",
       "      <td>1</td>\n",
       "    </tr>\n",
       "    <tr>\n",
       "      <th>1</th>\n",
       "      <td>HOBBIES_1_002_CA_1_evaluation</td>\n",
       "      <td>HOBBIES_1_002</td>\n",
       "      <td>HOBBIES_1</td>\n",
       "      <td>HOBBIES</td>\n",
       "      <td>CA_1</td>\n",
       "      <td>CA</td>\n",
       "      <td>1</td>\n",
       "      <td>0.0</td>\n",
       "      <td>20.0</td>\n",
       "      <td>NaN</td>\n",
       "      <td>...</td>\n",
       "      <td>5</td>\n",
       "      <td>0</td>\n",
       "      <td>29</td>\n",
       "      <td>1</td>\n",
       "      <td>4</td>\n",
       "      <td>1</td>\n",
       "      <td>0</td>\n",
       "      <td>5</td>\n",
       "      <td>5</td>\n",
       "      <td>1</td>\n",
       "    </tr>\n",
       "    <tr>\n",
       "      <th>2</th>\n",
       "      <td>HOBBIES_1_003_CA_1_evaluation</td>\n",
       "      <td>HOBBIES_1_003</td>\n",
       "      <td>HOBBIES_1</td>\n",
       "      <td>HOBBIES</td>\n",
       "      <td>CA_1</td>\n",
       "      <td>CA</td>\n",
       "      <td>1</td>\n",
       "      <td>0.0</td>\n",
       "      <td>300.0</td>\n",
       "      <td>NaN</td>\n",
       "      <td>...</td>\n",
       "      <td>5</td>\n",
       "      <td>0</td>\n",
       "      <td>29</td>\n",
       "      <td>1</td>\n",
       "      <td>4</td>\n",
       "      <td>1</td>\n",
       "      <td>0</td>\n",
       "      <td>5</td>\n",
       "      <td>5</td>\n",
       "      <td>1</td>\n",
       "    </tr>\n",
       "    <tr>\n",
       "      <th>3</th>\n",
       "      <td>HOBBIES_1_004_CA_1_evaluation</td>\n",
       "      <td>HOBBIES_1_004</td>\n",
       "      <td>HOBBIES_1</td>\n",
       "      <td>HOBBIES</td>\n",
       "      <td>CA_1</td>\n",
       "      <td>CA</td>\n",
       "      <td>1</td>\n",
       "      <td>0.0</td>\n",
       "      <td>5.0</td>\n",
       "      <td>NaN</td>\n",
       "      <td>...</td>\n",
       "      <td>5</td>\n",
       "      <td>0</td>\n",
       "      <td>29</td>\n",
       "      <td>1</td>\n",
       "      <td>4</td>\n",
       "      <td>1</td>\n",
       "      <td>0</td>\n",
       "      <td>5</td>\n",
       "      <td>5</td>\n",
       "      <td>1</td>\n",
       "    </tr>\n",
       "    <tr>\n",
       "      <th>4</th>\n",
       "      <td>HOBBIES_1_005_CA_1_evaluation</td>\n",
       "      <td>HOBBIES_1_005</td>\n",
       "      <td>HOBBIES_1</td>\n",
       "      <td>HOBBIES</td>\n",
       "      <td>CA_1</td>\n",
       "      <td>CA</td>\n",
       "      <td>1</td>\n",
       "      <td>0.0</td>\n",
       "      <td>16.0</td>\n",
       "      <td>NaN</td>\n",
       "      <td>...</td>\n",
       "      <td>5</td>\n",
       "      <td>0</td>\n",
       "      <td>29</td>\n",
       "      <td>1</td>\n",
       "      <td>4</td>\n",
       "      <td>1</td>\n",
       "      <td>0</td>\n",
       "      <td>5</td>\n",
       "      <td>5</td>\n",
       "      <td>1</td>\n",
       "    </tr>\n",
       "    <tr>\n",
       "      <th>...</th>\n",
       "      <td>...</td>\n",
       "      <td>...</td>\n",
       "      <td>...</td>\n",
       "      <td>...</td>\n",
       "      <td>...</td>\n",
       "      <td>...</td>\n",
       "      <td>...</td>\n",
       "      <td>...</td>\n",
       "      <td>...</td>\n",
       "      <td>...</td>\n",
       "      <td>...</td>\n",
       "      <td>...</td>\n",
       "      <td>...</td>\n",
       "      <td>...</td>\n",
       "      <td>...</td>\n",
       "      <td>...</td>\n",
       "      <td>...</td>\n",
       "      <td>...</td>\n",
       "      <td>...</td>\n",
       "      <td>...</td>\n",
       "      <td>...</td>\n",
       "    </tr>\n",
       "    <tr>\n",
       "      <th>3939964</th>\n",
       "      <td>FOODS_2_170_CA_1_evaluation</td>\n",
       "      <td>FOODS_2_170</td>\n",
       "      <td>FOODS_2</td>\n",
       "      <td>FOODS</td>\n",
       "      <td>CA_1</td>\n",
       "      <td>CA</td>\n",
       "      <td>1941</td>\n",
       "      <td>NaN</td>\n",
       "      <td>NaN</td>\n",
       "      <td>NaN</td>\n",
       "      <td>...</td>\n",
       "      <td>4</td>\n",
       "      <td>0</td>\n",
       "      <td>22</td>\n",
       "      <td>1</td>\n",
       "      <td>20</td>\n",
       "      <td>5</td>\n",
       "      <td>5</td>\n",
       "      <td>4</td>\n",
       "      <td>6</td>\n",
       "      <td>1</td>\n",
       "    </tr>\n",
       "    <tr>\n",
       "      <th>3939965</th>\n",
       "      <td>FOODS_2_171_CA_1_evaluation</td>\n",
       "      <td>FOODS_2_171</td>\n",
       "      <td>FOODS_2</td>\n",
       "      <td>FOODS</td>\n",
       "      <td>CA_1</td>\n",
       "      <td>CA</td>\n",
       "      <td>1941</td>\n",
       "      <td>NaN</td>\n",
       "      <td>NaN</td>\n",
       "      <td>NaN</td>\n",
       "      <td>...</td>\n",
       "      <td>4</td>\n",
       "      <td>0</td>\n",
       "      <td>22</td>\n",
       "      <td>1</td>\n",
       "      <td>20</td>\n",
       "      <td>5</td>\n",
       "      <td>5</td>\n",
       "      <td>4</td>\n",
       "      <td>6</td>\n",
       "      <td>1</td>\n",
       "    </tr>\n",
       "    <tr>\n",
       "      <th>3939966</th>\n",
       "      <td>FOODS_2_172_CA_1_evaluation</td>\n",
       "      <td>FOODS_2_172</td>\n",
       "      <td>FOODS_2</td>\n",
       "      <td>FOODS</td>\n",
       "      <td>CA_1</td>\n",
       "      <td>CA</td>\n",
       "      <td>1941</td>\n",
       "      <td>NaN</td>\n",
       "      <td>NaN</td>\n",
       "      <td>NaN</td>\n",
       "      <td>...</td>\n",
       "      <td>4</td>\n",
       "      <td>0</td>\n",
       "      <td>22</td>\n",
       "      <td>1</td>\n",
       "      <td>20</td>\n",
       "      <td>5</td>\n",
       "      <td>5</td>\n",
       "      <td>4</td>\n",
       "      <td>6</td>\n",
       "      <td>1</td>\n",
       "    </tr>\n",
       "    <tr>\n",
       "      <th>3939967</th>\n",
       "      <td>FOODS_2_173_CA_1_evaluation</td>\n",
       "      <td>FOODS_2_173</td>\n",
       "      <td>FOODS_2</td>\n",
       "      <td>FOODS</td>\n",
       "      <td>CA_1</td>\n",
       "      <td>CA</td>\n",
       "      <td>1941</td>\n",
       "      <td>NaN</td>\n",
       "      <td>NaN</td>\n",
       "      <td>NaN</td>\n",
       "      <td>...</td>\n",
       "      <td>4</td>\n",
       "      <td>0</td>\n",
       "      <td>22</td>\n",
       "      <td>1</td>\n",
       "      <td>20</td>\n",
       "      <td>5</td>\n",
       "      <td>5</td>\n",
       "      <td>4</td>\n",
       "      <td>6</td>\n",
       "      <td>1</td>\n",
       "    </tr>\n",
       "    <tr>\n",
       "      <th>3939968</th>\n",
       "      <td>FOODS_2_174_CA_1_evaluation</td>\n",
       "      <td>FOODS_2_174</td>\n",
       "      <td>FOODS_2</td>\n",
       "      <td>FOODS</td>\n",
       "      <td>CA_1</td>\n",
       "      <td>CA</td>\n",
       "      <td>1941</td>\n",
       "      <td>NaN</td>\n",
       "      <td>NaN</td>\n",
       "      <td>NaN</td>\n",
       "      <td>...</td>\n",
       "      <td>4</td>\n",
       "      <td>0</td>\n",
       "      <td>22</td>\n",
       "      <td>1</td>\n",
       "      <td>20</td>\n",
       "      <td>5</td>\n",
       "      <td>5</td>\n",
       "      <td>4</td>\n",
       "      <td>6</td>\n",
       "      <td>1</td>\n",
       "    </tr>\n",
       "  </tbody>\n",
       "</table>\n",
       "<p>3939969 rows × 39 columns</p>\n",
       "</div>\n",
       "      <button class=\"colab-df-convert\" onclick=\"convertToInteractive('df-cd7126cb-af38-48f5-861a-e4e07547ffbc')\"\n",
       "              title=\"Convert this dataframe to an interactive table.\"\n",
       "              style=\"display:none;\">\n",
       "        \n",
       "  <svg xmlns=\"http://www.w3.org/2000/svg\" height=\"24px\"viewBox=\"0 0 24 24\"\n",
       "       width=\"24px\">\n",
       "    <path d=\"M0 0h24v24H0V0z\" fill=\"none\"/>\n",
       "    <path d=\"M18.56 5.44l.94 2.06.94-2.06 2.06-.94-2.06-.94-.94-2.06-.94 2.06-2.06.94zm-11 1L8.5 8.5l.94-2.06 2.06-.94-2.06-.94L8.5 2.5l-.94 2.06-2.06.94zm10 10l.94 2.06.94-2.06 2.06-.94-2.06-.94-.94-2.06-.94 2.06-2.06.94z\"/><path d=\"M17.41 7.96l-1.37-1.37c-.4-.4-.92-.59-1.43-.59-.52 0-1.04.2-1.43.59L10.3 9.45l-7.72 7.72c-.78.78-.78 2.05 0 2.83L4 21.41c.39.39.9.59 1.41.59.51 0 1.02-.2 1.41-.59l7.78-7.78 2.81-2.81c.8-.78.8-2.07 0-2.86zM5.41 20L4 18.59l7.72-7.72 1.47 1.35L5.41 20z\"/>\n",
       "  </svg>\n",
       "      </button>\n",
       "      \n",
       "  <style>\n",
       "    .colab-df-container {\n",
       "      display:flex;\n",
       "      flex-wrap:wrap;\n",
       "      gap: 12px;\n",
       "    }\n",
       "\n",
       "    .colab-df-convert {\n",
       "      background-color: #E8F0FE;\n",
       "      border: none;\n",
       "      border-radius: 50%;\n",
       "      cursor: pointer;\n",
       "      display: none;\n",
       "      fill: #1967D2;\n",
       "      height: 32px;\n",
       "      padding: 0 0 0 0;\n",
       "      width: 32px;\n",
       "    }\n",
       "\n",
       "    .colab-df-convert:hover {\n",
       "      background-color: #E2EBFA;\n",
       "      box-shadow: 0px 1px 2px rgba(60, 64, 67, 0.3), 0px 1px 3px 1px rgba(60, 64, 67, 0.15);\n",
       "      fill: #174EA6;\n",
       "    }\n",
       "\n",
       "    [theme=dark] .colab-df-convert {\n",
       "      background-color: #3B4455;\n",
       "      fill: #D2E3FC;\n",
       "    }\n",
       "\n",
       "    [theme=dark] .colab-df-convert:hover {\n",
       "      background-color: #434B5C;\n",
       "      box-shadow: 0px 1px 3px 1px rgba(0, 0, 0, 0.15);\n",
       "      filter: drop-shadow(0px 1px 2px rgba(0, 0, 0, 0.3));\n",
       "      fill: #FFFFFF;\n",
       "    }\n",
       "  </style>\n",
       "\n",
       "      <script>\n",
       "        const buttonEl =\n",
       "          document.querySelector('#df-cd7126cb-af38-48f5-861a-e4e07547ffbc button.colab-df-convert');\n",
       "        buttonEl.style.display =\n",
       "          google.colab.kernel.accessAllowed ? 'block' : 'none';\n",
       "\n",
       "        async function convertToInteractive(key) {\n",
       "          const element = document.querySelector('#df-cd7126cb-af38-48f5-861a-e4e07547ffbc');\n",
       "          const dataTable =\n",
       "            await google.colab.kernel.invokeFunction('convertToInteractive',\n",
       "                                                     [key], {});\n",
       "          if (!dataTable) return;\n",
       "\n",
       "          const docLinkHtml = 'Like what you see? Visit the ' +\n",
       "            '<a target=\"_blank\" href=https://colab.research.google.com/notebooks/data_table.ipynb>data table notebook</a>'\n",
       "            + ' to learn more about interactive tables.';\n",
       "          element.innerHTML = '';\n",
       "          dataTable['output_type'] = 'display_data';\n",
       "          await google.colab.output.renderOutput(dataTable, element);\n",
       "          const docLink = document.createElement('div');\n",
       "          docLink.innerHTML = docLinkHtml;\n",
       "          element.appendChild(docLink);\n",
       "        }\n",
       "      </script>\n",
       "    </div>\n",
       "  </div>\n",
       "  "
      ],
      "text/plain": [
       "                                    id        item_id    dept_id   cat_id  \\\n",
       "0        HOBBIES_1_001_CA_1_evaluation  HOBBIES_1_001  HOBBIES_1  HOBBIES   \n",
       "1        HOBBIES_1_002_CA_1_evaluation  HOBBIES_1_002  HOBBIES_1  HOBBIES   \n",
       "2        HOBBIES_1_003_CA_1_evaluation  HOBBIES_1_003  HOBBIES_1  HOBBIES   \n",
       "3        HOBBIES_1_004_CA_1_evaluation  HOBBIES_1_004  HOBBIES_1  HOBBIES   \n",
       "4        HOBBIES_1_005_CA_1_evaluation  HOBBIES_1_005  HOBBIES_1  HOBBIES   \n",
       "...                                ...            ...        ...      ...   \n",
       "3939964    FOODS_2_170_CA_1_evaluation    FOODS_2_170    FOODS_2    FOODS   \n",
       "3939965    FOODS_2_171_CA_1_evaluation    FOODS_2_171    FOODS_2    FOODS   \n",
       "3939966    FOODS_2_172_CA_1_evaluation    FOODS_2_172    FOODS_2    FOODS   \n",
       "3939967    FOODS_2_173_CA_1_evaluation    FOODS_2_173    FOODS_2    FOODS   \n",
       "3939968    FOODS_2_174_CA_1_evaluation    FOODS_2_174    FOODS_2    FOODS   \n",
       "\n",
       "        store_id state_id     d  sales  release  sell_price  ...  \\\n",
       "0           CA_1       CA     1    0.0    224.0         NaN  ...   \n",
       "1           CA_1       CA     1    0.0     20.0         NaN  ...   \n",
       "2           CA_1       CA     1    0.0    300.0         NaN  ...   \n",
       "3           CA_1       CA     1    0.0      5.0         NaN  ...   \n",
       "4           CA_1       CA     1    0.0     16.0         NaN  ...   \n",
       "...          ...      ...   ...    ...      ...         ...  ...   \n",
       "3939964     CA_1       CA  1941    NaN      NaN         NaN  ...   \n",
       "3939965     CA_1       CA  1941    NaN      NaN         NaN  ...   \n",
       "3939966     CA_1       CA  1941    NaN      NaN         NaN  ...   \n",
       "3939967     CA_1       CA  1941    NaN      NaN         NaN  ...   \n",
       "3939968     CA_1       CA  1941    NaN      NaN         NaN  ...   \n",
       "\n",
       "         month_week_number  events_per_day  tm_d  is_weekend  tm_w  tm_m  \\\n",
       "0                        5               0    29           1     4     1   \n",
       "1                        5               0    29           1     4     1   \n",
       "2                        5               0    29           1     4     1   \n",
       "3                        5               0    29           1     4     1   \n",
       "4                        5               0    29           1     4     1   \n",
       "...                    ...             ...   ...         ...   ...   ...   \n",
       "3939964                  4               0    22           1    20     5   \n",
       "3939965                  4               0    22           1    20     5   \n",
       "3939966                  4               0    22           1    20     5   \n",
       "3939967                  4               0    22           1    20     5   \n",
       "3939968                  4               0    22           1    20     5   \n",
       "\n",
       "         tm_y  tm_wm  tm_dw  tm_w_end  \n",
       "0           0      5      5         1  \n",
       "1           0      5      5         1  \n",
       "2           0      5      5         1  \n",
       "3           0      5      5         1  \n",
       "4           0      5      5         1  \n",
       "...       ...    ...    ...       ...  \n",
       "3939964     5      4      6         1  \n",
       "3939965     5      4      6         1  \n",
       "3939966     5      4      6         1  \n",
       "3939967     5      4      6         1  \n",
       "3939968     5      4      6         1  \n",
       "\n",
       "[3939969 rows x 39 columns]"
      ]
     },
     "execution_count": 5,
     "metadata": {},
     "output_type": "execute_result"
    }
   ],
   "source": [
    "new_df"
   ]
  },
  {
   "cell_type": "code",
   "execution_count": null,
   "metadata": {
    "colab": {
     "base_uri": "https://localhost:8080/"
    },
    "id": "TfsxRe-8kIef",
    "outputId": "259fb61d-04a0-408e-9273-6beccc98ea6d"
   },
   "outputs": [
    {
     "data": {
      "text/plain": [
       "id                         0\n",
       "item_id                    0\n",
       "dept_id                    0\n",
       "cat_id                     0\n",
       "store_id                   0\n",
       "state_id                   0\n",
       "d                          0\n",
       "sales                  56028\n",
       "release              3922248\n",
       "sell_price           3926002\n",
       "price_max            3926002\n",
       "price_min            3926002\n",
       "price_std            3926002\n",
       "price_mean           3926002\n",
       "price_norm           3926002\n",
       "price_nunique        3926002\n",
       "item_nunique         3926002\n",
       "price_momentum       3926065\n",
       "price_momentum_m     3926002\n",
       "price_momentum_y     3926002\n",
       "event_name_1               0\n",
       "event_type_1               0\n",
       "event_name_2               0\n",
       "event_type_2               0\n",
       "snap_CA                    0\n",
       "snap_TX                    0\n",
       "snap_WI                    0\n",
       "wday                       0\n",
       "month_day                  0\n",
       "month_week_number          0\n",
       "events_per_day             0\n",
       "tm_d                       0\n",
       "is_weekend                 0\n",
       "tm_w                       0\n",
       "tm_m                       0\n",
       "tm_y                       0\n",
       "tm_wm                      0\n",
       "tm_dw                      0\n",
       "tm_w_end                   0\n",
       "dtype: int64"
      ]
     },
     "execution_count": 6,
     "metadata": {},
     "output_type": "execute_result"
    }
   ],
   "source": [
    "new_df.isna().sum()"
   ]
  },
  {
   "cell_type": "code",
   "execution_count": null,
   "metadata": {
    "colab": {
     "base_uri": "https://localhost:8080/"
    },
    "id": "ICqdQIHLlwYk",
    "outputId": "6202a1cf-8ebf-4f5e-c240-771c0bda902b"
   },
   "outputs": [
    {
     "data": {
      "text/plain": [
       "13967"
      ]
     },
     "execution_count": 7,
     "metadata": {},
     "output_type": "execute_result"
    }
   ],
   "source": [
    "new_df.sell_price.count()"
   ]
  },
  {
   "cell_type": "markdown",
   "metadata": {
    "id": "5eVyCTtbepGi"
   },
   "source": [
    "## We will apply label encoding to categorical columns"
   ]
  },
  {
   "cell_type": "code",
   "execution_count": null,
   "metadata": {
    "id": "725OiLShfU4N"
   },
   "outputs": [],
   "source": [
    "from sklearn.preprocessing import LabelEncoder\n",
    "le = LabelEncoder()"
   ]
  },
  {
   "cell_type": "code",
   "execution_count": null,
   "metadata": {
    "id": "Yexgs9BQfU_c"
   },
   "outputs": [],
   "source": [
    "cats =['event_name_1','event_type_1','event_name_2','event_type_2','id','item_id','dept_id','cat_id','store_id','state_id']"
   ]
  },
  {
   "cell_type": "code",
   "execution_count": null,
   "metadata": {
    "id": "tOGdqZxKfVCv"
   },
   "outputs": [],
   "source": [
    "# Encode labels in column 'store_id,cat_id,state_id'.\n",
    "for x in cats:\n",
    "  new_df[x]= le.fit_transform(new_df[x])\n",
    "  \n",
    "  new_df[x].unique()"
   ]
  },
  {
   "cell_type": "code",
   "execution_count": null,
   "metadata": {
    "colab": {
     "base_uri": "https://localhost:8080/",
     "height": 300
    },
    "id": "_2fqG9AphUWx",
    "outputId": "0df127af-64bd-458a-d107-e37abd368dfc"
   },
   "outputs": [
    {
     "data": {
      "text/html": [
       "\n",
       "  <div id=\"df-4e1cbb3f-3635-4862-b55b-eee31f4b7d67\">\n",
       "    <div class=\"colab-df-container\">\n",
       "      <div>\n",
       "<style scoped>\n",
       "    .dataframe tbody tr th:only-of-type {\n",
       "        vertical-align: middle;\n",
       "    }\n",
       "\n",
       "    .dataframe tbody tr th {\n",
       "        vertical-align: top;\n",
       "    }\n",
       "\n",
       "    .dataframe thead th {\n",
       "        text-align: right;\n",
       "    }\n",
       "</style>\n",
       "<table border=\"1\" class=\"dataframe\">\n",
       "  <thead>\n",
       "    <tr style=\"text-align: right;\">\n",
       "      <th></th>\n",
       "      <th>id</th>\n",
       "      <th>item_id</th>\n",
       "      <th>dept_id</th>\n",
       "      <th>cat_id</th>\n",
       "      <th>store_id</th>\n",
       "      <th>state_id</th>\n",
       "      <th>d</th>\n",
       "      <th>sales</th>\n",
       "      <th>release</th>\n",
       "      <th>sell_price</th>\n",
       "      <th>...</th>\n",
       "      <th>month_week_number</th>\n",
       "      <th>events_per_day</th>\n",
       "      <th>tm_d</th>\n",
       "      <th>is_weekend</th>\n",
       "      <th>tm_w</th>\n",
       "      <th>tm_m</th>\n",
       "      <th>tm_y</th>\n",
       "      <th>tm_wm</th>\n",
       "      <th>tm_dw</th>\n",
       "      <th>tm_w_end</th>\n",
       "    </tr>\n",
       "  </thead>\n",
       "  <tbody>\n",
       "    <tr>\n",
       "      <th>0</th>\n",
       "      <td>389</td>\n",
       "      <td>389</td>\n",
       "      <td>2</td>\n",
       "      <td>1</td>\n",
       "      <td>0</td>\n",
       "      <td>0</td>\n",
       "      <td>1</td>\n",
       "      <td>0.0</td>\n",
       "      <td>224.0</td>\n",
       "      <td>NaN</td>\n",
       "      <td>...</td>\n",
       "      <td>5</td>\n",
       "      <td>0</td>\n",
       "      <td>29</td>\n",
       "      <td>1</td>\n",
       "      <td>4</td>\n",
       "      <td>1</td>\n",
       "      <td>0</td>\n",
       "      <td>5</td>\n",
       "      <td>5</td>\n",
       "      <td>1</td>\n",
       "    </tr>\n",
       "    <tr>\n",
       "      <th>1</th>\n",
       "      <td>390</td>\n",
       "      <td>390</td>\n",
       "      <td>2</td>\n",
       "      <td>1</td>\n",
       "      <td>0</td>\n",
       "      <td>0</td>\n",
       "      <td>1</td>\n",
       "      <td>0.0</td>\n",
       "      <td>20.0</td>\n",
       "      <td>NaN</td>\n",
       "      <td>...</td>\n",
       "      <td>5</td>\n",
       "      <td>0</td>\n",
       "      <td>29</td>\n",
       "      <td>1</td>\n",
       "      <td>4</td>\n",
       "      <td>1</td>\n",
       "      <td>0</td>\n",
       "      <td>5</td>\n",
       "      <td>5</td>\n",
       "      <td>1</td>\n",
       "    </tr>\n",
       "    <tr>\n",
       "      <th>2</th>\n",
       "      <td>391</td>\n",
       "      <td>391</td>\n",
       "      <td>2</td>\n",
       "      <td>1</td>\n",
       "      <td>0</td>\n",
       "      <td>0</td>\n",
       "      <td>1</td>\n",
       "      <td>0.0</td>\n",
       "      <td>300.0</td>\n",
       "      <td>NaN</td>\n",
       "      <td>...</td>\n",
       "      <td>5</td>\n",
       "      <td>0</td>\n",
       "      <td>29</td>\n",
       "      <td>1</td>\n",
       "      <td>4</td>\n",
       "      <td>1</td>\n",
       "      <td>0</td>\n",
       "      <td>5</td>\n",
       "      <td>5</td>\n",
       "      <td>1</td>\n",
       "    </tr>\n",
       "    <tr>\n",
       "      <th>3</th>\n",
       "      <td>392</td>\n",
       "      <td>392</td>\n",
       "      <td>2</td>\n",
       "      <td>1</td>\n",
       "      <td>0</td>\n",
       "      <td>0</td>\n",
       "      <td>1</td>\n",
       "      <td>0.0</td>\n",
       "      <td>5.0</td>\n",
       "      <td>NaN</td>\n",
       "      <td>...</td>\n",
       "      <td>5</td>\n",
       "      <td>0</td>\n",
       "      <td>29</td>\n",
       "      <td>1</td>\n",
       "      <td>4</td>\n",
       "      <td>1</td>\n",
       "      <td>0</td>\n",
       "      <td>5</td>\n",
       "      <td>5</td>\n",
       "      <td>1</td>\n",
       "    </tr>\n",
       "    <tr>\n",
       "      <th>4</th>\n",
       "      <td>393</td>\n",
       "      <td>393</td>\n",
       "      <td>2</td>\n",
       "      <td>1</td>\n",
       "      <td>0</td>\n",
       "      <td>0</td>\n",
       "      <td>1</td>\n",
       "      <td>0.0</td>\n",
       "      <td>16.0</td>\n",
       "      <td>NaN</td>\n",
       "      <td>...</td>\n",
       "      <td>5</td>\n",
       "      <td>0</td>\n",
       "      <td>29</td>\n",
       "      <td>1</td>\n",
       "      <td>4</td>\n",
       "      <td>1</td>\n",
       "      <td>0</td>\n",
       "      <td>5</td>\n",
       "      <td>5</td>\n",
       "      <td>1</td>\n",
       "    </tr>\n",
       "  </tbody>\n",
       "</table>\n",
       "<p>5 rows × 39 columns</p>\n",
       "</div>\n",
       "      <button class=\"colab-df-convert\" onclick=\"convertToInteractive('df-4e1cbb3f-3635-4862-b55b-eee31f4b7d67')\"\n",
       "              title=\"Convert this dataframe to an interactive table.\"\n",
       "              style=\"display:none;\">\n",
       "        \n",
       "  <svg xmlns=\"http://www.w3.org/2000/svg\" height=\"24px\"viewBox=\"0 0 24 24\"\n",
       "       width=\"24px\">\n",
       "    <path d=\"M0 0h24v24H0V0z\" fill=\"none\"/>\n",
       "    <path d=\"M18.56 5.44l.94 2.06.94-2.06 2.06-.94-2.06-.94-.94-2.06-.94 2.06-2.06.94zm-11 1L8.5 8.5l.94-2.06 2.06-.94-2.06-.94L8.5 2.5l-.94 2.06-2.06.94zm10 10l.94 2.06.94-2.06 2.06-.94-2.06-.94-.94-2.06-.94 2.06-2.06.94z\"/><path d=\"M17.41 7.96l-1.37-1.37c-.4-.4-.92-.59-1.43-.59-.52 0-1.04.2-1.43.59L10.3 9.45l-7.72 7.72c-.78.78-.78 2.05 0 2.83L4 21.41c.39.39.9.59 1.41.59.51 0 1.02-.2 1.41-.59l7.78-7.78 2.81-2.81c.8-.78.8-2.07 0-2.86zM5.41 20L4 18.59l7.72-7.72 1.47 1.35L5.41 20z\"/>\n",
       "  </svg>\n",
       "      </button>\n",
       "      \n",
       "  <style>\n",
       "    .colab-df-container {\n",
       "      display:flex;\n",
       "      flex-wrap:wrap;\n",
       "      gap: 12px;\n",
       "    }\n",
       "\n",
       "    .colab-df-convert {\n",
       "      background-color: #E8F0FE;\n",
       "      border: none;\n",
       "      border-radius: 50%;\n",
       "      cursor: pointer;\n",
       "      display: none;\n",
       "      fill: #1967D2;\n",
       "      height: 32px;\n",
       "      padding: 0 0 0 0;\n",
       "      width: 32px;\n",
       "    }\n",
       "\n",
       "    .colab-df-convert:hover {\n",
       "      background-color: #E2EBFA;\n",
       "      box-shadow: 0px 1px 2px rgba(60, 64, 67, 0.3), 0px 1px 3px 1px rgba(60, 64, 67, 0.15);\n",
       "      fill: #174EA6;\n",
       "    }\n",
       "\n",
       "    [theme=dark] .colab-df-convert {\n",
       "      background-color: #3B4455;\n",
       "      fill: #D2E3FC;\n",
       "    }\n",
       "\n",
       "    [theme=dark] .colab-df-convert:hover {\n",
       "      background-color: #434B5C;\n",
       "      box-shadow: 0px 1px 3px 1px rgba(0, 0, 0, 0.15);\n",
       "      filter: drop-shadow(0px 1px 2px rgba(0, 0, 0, 0.3));\n",
       "      fill: #FFFFFF;\n",
       "    }\n",
       "  </style>\n",
       "\n",
       "      <script>\n",
       "        const buttonEl =\n",
       "          document.querySelector('#df-4e1cbb3f-3635-4862-b55b-eee31f4b7d67 button.colab-df-convert');\n",
       "        buttonEl.style.display =\n",
       "          google.colab.kernel.accessAllowed ? 'block' : 'none';\n",
       "\n",
       "        async function convertToInteractive(key) {\n",
       "          const element = document.querySelector('#df-4e1cbb3f-3635-4862-b55b-eee31f4b7d67');\n",
       "          const dataTable =\n",
       "            await google.colab.kernel.invokeFunction('convertToInteractive',\n",
       "                                                     [key], {});\n",
       "          if (!dataTable) return;\n",
       "\n",
       "          const docLinkHtml = 'Like what you see? Visit the ' +\n",
       "            '<a target=\"_blank\" href=https://colab.research.google.com/notebooks/data_table.ipynb>data table notebook</a>'\n",
       "            + ' to learn more about interactive tables.';\n",
       "          element.innerHTML = '';\n",
       "          dataTable['output_type'] = 'display_data';\n",
       "          await google.colab.output.renderOutput(dataTable, element);\n",
       "          const docLink = document.createElement('div');\n",
       "          docLink.innerHTML = docLinkHtml;\n",
       "          element.appendChild(docLink);\n",
       "        }\n",
       "      </script>\n",
       "    </div>\n",
       "  </div>\n",
       "  "
      ],
      "text/plain": [
       "    id  item_id  dept_id  cat_id  store_id  state_id  d  sales  release  \\\n",
       "0  389      389        2       1         0         0  1    0.0    224.0   \n",
       "1  390      390        2       1         0         0  1    0.0     20.0   \n",
       "2  391      391        2       1         0         0  1    0.0    300.0   \n",
       "3  392      392        2       1         0         0  1    0.0      5.0   \n",
       "4  393      393        2       1         0         0  1    0.0     16.0   \n",
       "\n",
       "   sell_price  ...  month_week_number  events_per_day  tm_d  is_weekend  tm_w  \\\n",
       "0         NaN  ...                  5               0    29           1     4   \n",
       "1         NaN  ...                  5               0    29           1     4   \n",
       "2         NaN  ...                  5               0    29           1     4   \n",
       "3         NaN  ...                  5               0    29           1     4   \n",
       "4         NaN  ...                  5               0    29           1     4   \n",
       "\n",
       "   tm_m  tm_y  tm_wm  tm_dw  tm_w_end  \n",
       "0     1     0      5      5         1  \n",
       "1     1     0      5      5         1  \n",
       "2     1     0      5      5         1  \n",
       "3     1     0      5      5         1  \n",
       "4     1     0      5      5         1  \n",
       "\n",
       "[5 rows x 39 columns]"
      ]
     },
     "execution_count": 11,
     "metadata": {},
     "output_type": "execute_result"
    }
   ],
   "source": [
    "new_df.head()"
   ]
  },
  {
   "cell_type": "code",
   "execution_count": null,
   "metadata": {
    "colab": {
     "base_uri": "https://localhost:8080/"
    },
    "id": "AE9oqQAFiWla",
    "outputId": "e8f15cf5-db57-4526-e0f8-3ccd286539ee"
   },
   "outputs": [
    {
     "data": {
      "text/plain": [
       "Index(['id', 'item_id', 'dept_id', 'cat_id', 'store_id', 'state_id', 'd',\n",
       "       'sales', 'release', 'sell_price', 'price_max', 'price_min', 'price_std',\n",
       "       'price_mean', 'price_norm', 'price_nunique', 'item_nunique',\n",
       "       'price_momentum', 'price_momentum_m', 'price_momentum_y',\n",
       "       'event_name_1', 'event_type_1', 'event_name_2', 'event_type_2',\n",
       "       'snap_CA', 'snap_TX', 'snap_WI', 'wday', 'month_day',\n",
       "       'month_week_number', 'events_per_day', 'tm_d', 'is_weekend', 'tm_w',\n",
       "       'tm_m', 'tm_y', 'tm_wm', 'tm_dw', 'tm_w_end'],\n",
       "      dtype='object')"
      ]
     },
     "execution_count": 12,
     "metadata": {},
     "output_type": "execute_result"
    }
   ],
   "source": [
    "new_df.columns"
   ]
  },
  {
   "cell_type": "markdown",
   "metadata": {
    "id": "sPM2jwVSiTpq"
   },
   "source": [
    "Add lags"
   ]
  },
  {
   "cell_type": "code",
   "execution_count": null,
   "metadata": {
    "colab": {
     "base_uri": "https://localhost:8080/"
    },
    "id": "v625z3I9iV5p",
    "outputId": "7135cb04-b477-429f-dea6-e78a166fc63f"
   },
   "outputs": [
    {
     "name": "stderr",
     "output_type": "stream",
     "text": [
      "/usr/local/lib/python3.7/dist-packages/ipykernel_launcher.py:3: SettingWithCopyWarning: \n",
      "A value is trying to be set on a copy of a slice from a DataFrame.\n",
      "Try using .loc[row_indexer,col_indexer] = value instead\n",
      "\n",
      "See the caveats in the documentation: https://pandas.pydata.org/pandas-docs/stable/user_guide/indexing.html#returning-a-view-versus-a-copy\n",
      "  This is separate from the ipykernel package so we can avoid doing imports until\n"
     ]
    }
   ],
   "source": [
    "# Adding the lag of the target variable from 6 steps back up to 24\n",
    "for i in [28,35,42,49,56,63,70]:\n",
    "    new_df[\"lag_{}\".format(i)] = new_df.sales.shift(i)"
   ]
  },
  {
   "cell_type": "markdown",
   "metadata": {
    "id": "vaSvfJqI65gS"
   },
   "source": [
    "==================== Temporarily dealing with Nan values ================="
   ]
  },
  {
   "cell_type": "code",
   "execution_count": null,
   "metadata": {
    "colab": {
     "base_uri": "https://localhost:8080/",
     "height": 488
    },
    "id": "u23J0xEZilrm",
    "outputId": "6e24adf3-5918-4cd6-d8c7-0a5816a3c122"
   },
   "outputs": [
    {
     "data": {
      "text/html": [
       "\n",
       "  <div id=\"df-4d3bd59e-1475-48b2-bd68-f52a29f91b5c\">\n",
       "    <div class=\"colab-df-container\">\n",
       "      <div>\n",
       "<style scoped>\n",
       "    .dataframe tbody tr th:only-of-type {\n",
       "        vertical-align: middle;\n",
       "    }\n",
       "\n",
       "    .dataframe tbody tr th {\n",
       "        vertical-align: top;\n",
       "    }\n",
       "\n",
       "    .dataframe thead th {\n",
       "        text-align: right;\n",
       "    }\n",
       "</style>\n",
       "<table border=\"1\" class=\"dataframe\">\n",
       "  <thead>\n",
       "    <tr style=\"text-align: right;\">\n",
       "      <th></th>\n",
       "      <th>id</th>\n",
       "      <th>item_id</th>\n",
       "      <th>dept_id</th>\n",
       "      <th>cat_id</th>\n",
       "      <th>store_id</th>\n",
       "      <th>state_id</th>\n",
       "      <th>d</th>\n",
       "      <th>sales</th>\n",
       "      <th>release</th>\n",
       "      <th>sell_price</th>\n",
       "      <th>...</th>\n",
       "      <th>tm_wm</th>\n",
       "      <th>tm_dw</th>\n",
       "      <th>tm_w_end</th>\n",
       "      <th>lag_28</th>\n",
       "      <th>lag_35</th>\n",
       "      <th>lag_42</th>\n",
       "      <th>lag_49</th>\n",
       "      <th>lag_56</th>\n",
       "      <th>lag_63</th>\n",
       "      <th>lag_70</th>\n",
       "    </tr>\n",
       "  </thead>\n",
       "  <tbody>\n",
       "    <tr>\n",
       "      <th>84045</th>\n",
       "      <td>392</td>\n",
       "      <td>392</td>\n",
       "      <td>2</td>\n",
       "      <td>1</td>\n",
       "      <td>0</td>\n",
       "      <td>0</td>\n",
       "      <td>43</td>\n",
       "      <td>1.0</td>\n",
       "      <td>5.0</td>\n",
       "      <td>4.339844</td>\n",
       "      <td>...</td>\n",
       "      <td>2</td>\n",
       "      <td>5</td>\n",
       "      <td>1</td>\n",
       "      <td>0.0</td>\n",
       "      <td>2.0</td>\n",
       "      <td>10.0</td>\n",
       "      <td>2.0</td>\n",
       "      <td>9.0</td>\n",
       "      <td>4.0</td>\n",
       "      <td>5.0</td>\n",
       "    </tr>\n",
       "    <tr>\n",
       "      <th>84049</th>\n",
       "      <td>396</td>\n",
       "      <td>396</td>\n",
       "      <td>2</td>\n",
       "      <td>1</td>\n",
       "      <td>0</td>\n",
       "      <td>0</td>\n",
       "      <td>43</td>\n",
       "      <td>12.0</td>\n",
       "      <td>0.0</td>\n",
       "      <td>0.419922</td>\n",
       "      <td>...</td>\n",
       "      <td>2</td>\n",
       "      <td>5</td>\n",
       "      <td>1</td>\n",
       "      <td>8.0</td>\n",
       "      <td>6.0</td>\n",
       "      <td>5.0</td>\n",
       "      <td>0.0</td>\n",
       "      <td>4.0</td>\n",
       "      <td>2.0</td>\n",
       "      <td>9.0</td>\n",
       "    </tr>\n",
       "    <tr>\n",
       "      <th>84050</th>\n",
       "      <td>397</td>\n",
       "      <td>397</td>\n",
       "      <td>2</td>\n",
       "      <td>1</td>\n",
       "      <td>0</td>\n",
       "      <td>0</td>\n",
       "      <td>43</td>\n",
       "      <td>4.0</td>\n",
       "      <td>0.0</td>\n",
       "      <td>1.559570</td>\n",
       "      <td>...</td>\n",
       "      <td>2</td>\n",
       "      <td>5</td>\n",
       "      <td>1</td>\n",
       "      <td>0.0</td>\n",
       "      <td>3.0</td>\n",
       "      <td>4.0</td>\n",
       "      <td>0.0</td>\n",
       "      <td>3.0</td>\n",
       "      <td>3.0</td>\n",
       "      <td>7.0</td>\n",
       "    </tr>\n",
       "    <tr>\n",
       "      <th>86046</th>\n",
       "      <td>392</td>\n",
       "      <td>392</td>\n",
       "      <td>2</td>\n",
       "      <td>1</td>\n",
       "      <td>0</td>\n",
       "      <td>0</td>\n",
       "      <td>44</td>\n",
       "      <td>0.0</td>\n",
       "      <td>5.0</td>\n",
       "      <td>4.339844</td>\n",
       "      <td>...</td>\n",
       "      <td>2</td>\n",
       "      <td>6</td>\n",
       "      <td>1</td>\n",
       "      <td>0.0</td>\n",
       "      <td>2.0</td>\n",
       "      <td>2.0</td>\n",
       "      <td>0.0</td>\n",
       "      <td>4.0</td>\n",
       "      <td>2.0</td>\n",
       "      <td>0.0</td>\n",
       "    </tr>\n",
       "    <tr>\n",
       "      <th>86050</th>\n",
       "      <td>396</td>\n",
       "      <td>396</td>\n",
       "      <td>2</td>\n",
       "      <td>1</td>\n",
       "      <td>0</td>\n",
       "      <td>0</td>\n",
       "      <td>44</td>\n",
       "      <td>2.0</td>\n",
       "      <td>0.0</td>\n",
       "      <td>0.419922</td>\n",
       "      <td>...</td>\n",
       "      <td>2</td>\n",
       "      <td>6</td>\n",
       "      <td>1</td>\n",
       "      <td>0.0</td>\n",
       "      <td>0.0</td>\n",
       "      <td>4.0</td>\n",
       "      <td>1.0</td>\n",
       "      <td>0.0</td>\n",
       "      <td>1.0</td>\n",
       "      <td>0.0</td>\n",
       "    </tr>\n",
       "    <tr>\n",
       "      <th>...</th>\n",
       "      <td>...</td>\n",
       "      <td>...</td>\n",
       "      <td>...</td>\n",
       "      <td>...</td>\n",
       "      <td>...</td>\n",
       "      <td>...</td>\n",
       "      <td>...</td>\n",
       "      <td>...</td>\n",
       "      <td>...</td>\n",
       "      <td>...</td>\n",
       "      <td>...</td>\n",
       "      <td>...</td>\n",
       "      <td>...</td>\n",
       "      <td>...</td>\n",
       "      <td>...</td>\n",
       "      <td>...</td>\n",
       "      <td>...</td>\n",
       "      <td>...</td>\n",
       "      <td>...</td>\n",
       "      <td>...</td>\n",
       "      <td>...</td>\n",
       "    </tr>\n",
       "    <tr>\n",
       "      <th>3881943</th>\n",
       "      <td>392</td>\n",
       "      <td>392</td>\n",
       "      <td>2</td>\n",
       "      <td>1</td>\n",
       "      <td>0</td>\n",
       "      <td>0</td>\n",
       "      <td>1941</td>\n",
       "      <td>6.0</td>\n",
       "      <td>5.0</td>\n",
       "      <td>4.640625</td>\n",
       "      <td>...</td>\n",
       "      <td>4</td>\n",
       "      <td>6</td>\n",
       "      <td>1</td>\n",
       "      <td>5.0</td>\n",
       "      <td>0.0</td>\n",
       "      <td>1.0</td>\n",
       "      <td>0.0</td>\n",
       "      <td>0.0</td>\n",
       "      <td>0.0</td>\n",
       "      <td>2.0</td>\n",
       "    </tr>\n",
       "    <tr>\n",
       "      <th>3881944</th>\n",
       "      <td>393</td>\n",
       "      <td>393</td>\n",
       "      <td>2</td>\n",
       "      <td>1</td>\n",
       "      <td>0</td>\n",
       "      <td>0</td>\n",
       "      <td>1941</td>\n",
       "      <td>0.0</td>\n",
       "      <td>16.0</td>\n",
       "      <td>2.880859</td>\n",
       "      <td>...</td>\n",
       "      <td>4</td>\n",
       "      <td>6</td>\n",
       "      <td>1</td>\n",
       "      <td>3.0</td>\n",
       "      <td>0.0</td>\n",
       "      <td>0.0</td>\n",
       "      <td>4.0</td>\n",
       "      <td>0.0</td>\n",
       "      <td>1.0</td>\n",
       "      <td>0.0</td>\n",
       "    </tr>\n",
       "    <tr>\n",
       "      <th>3881945</th>\n",
       "      <td>394</td>\n",
       "      <td>394</td>\n",
       "      <td>2</td>\n",
       "      <td>1</td>\n",
       "      <td>0</td>\n",
       "      <td>0</td>\n",
       "      <td>1941</td>\n",
       "      <td>0.0</td>\n",
       "      <td>109.0</td>\n",
       "      <td>0.959961</td>\n",
       "      <td>...</td>\n",
       "      <td>4</td>\n",
       "      <td>6</td>\n",
       "      <td>1</td>\n",
       "      <td>0.0</td>\n",
       "      <td>0.0</td>\n",
       "      <td>0.0</td>\n",
       "      <td>2.0</td>\n",
       "      <td>0.0</td>\n",
       "      <td>1.0</td>\n",
       "      <td>7.0</td>\n",
       "    </tr>\n",
       "    <tr>\n",
       "      <th>3881946</th>\n",
       "      <td>395</td>\n",
       "      <td>395</td>\n",
       "      <td>2</td>\n",
       "      <td>1</td>\n",
       "      <td>0</td>\n",
       "      <td>0</td>\n",
       "      <td>1941</td>\n",
       "      <td>0.0</td>\n",
       "      <td>123.0</td>\n",
       "      <td>7.878906</td>\n",
       "      <td>...</td>\n",
       "      <td>4</td>\n",
       "      <td>6</td>\n",
       "      <td>1</td>\n",
       "      <td>2.0</td>\n",
       "      <td>1.0</td>\n",
       "      <td>1.0</td>\n",
       "      <td>0.0</td>\n",
       "      <td>0.0</td>\n",
       "      <td>0.0</td>\n",
       "      <td>4.0</td>\n",
       "    </tr>\n",
       "    <tr>\n",
       "      <th>3881947</th>\n",
       "      <td>396</td>\n",
       "      <td>396</td>\n",
       "      <td>2</td>\n",
       "      <td>1</td>\n",
       "      <td>0</td>\n",
       "      <td>0</td>\n",
       "      <td>1941</td>\n",
       "      <td>32.0</td>\n",
       "      <td>0.0</td>\n",
       "      <td>0.479980</td>\n",
       "      <td>...</td>\n",
       "      <td>4</td>\n",
       "      <td>6</td>\n",
       "      <td>1</td>\n",
       "      <td>3.0</td>\n",
       "      <td>0.0</td>\n",
       "      <td>1.0</td>\n",
       "      <td>0.0</td>\n",
       "      <td>6.0</td>\n",
       "      <td>0.0</td>\n",
       "      <td>1.0</td>\n",
       "    </tr>\n",
       "  </tbody>\n",
       "</table>\n",
       "<p>13610 rows × 46 columns</p>\n",
       "</div>\n",
       "      <button class=\"colab-df-convert\" onclick=\"convertToInteractive('df-4d3bd59e-1475-48b2-bd68-f52a29f91b5c')\"\n",
       "              title=\"Convert this dataframe to an interactive table.\"\n",
       "              style=\"display:none;\">\n",
       "        \n",
       "  <svg xmlns=\"http://www.w3.org/2000/svg\" height=\"24px\"viewBox=\"0 0 24 24\"\n",
       "       width=\"24px\">\n",
       "    <path d=\"M0 0h24v24H0V0z\" fill=\"none\"/>\n",
       "    <path d=\"M18.56 5.44l.94 2.06.94-2.06 2.06-.94-2.06-.94-.94-2.06-.94 2.06-2.06.94zm-11 1L8.5 8.5l.94-2.06 2.06-.94-2.06-.94L8.5 2.5l-.94 2.06-2.06.94zm10 10l.94 2.06.94-2.06 2.06-.94-2.06-.94-.94-2.06-.94 2.06-2.06.94z\"/><path d=\"M17.41 7.96l-1.37-1.37c-.4-.4-.92-.59-1.43-.59-.52 0-1.04.2-1.43.59L10.3 9.45l-7.72 7.72c-.78.78-.78 2.05 0 2.83L4 21.41c.39.39.9.59 1.41.59.51 0 1.02-.2 1.41-.59l7.78-7.78 2.81-2.81c.8-.78.8-2.07 0-2.86zM5.41 20L4 18.59l7.72-7.72 1.47 1.35L5.41 20z\"/>\n",
       "  </svg>\n",
       "      </button>\n",
       "      \n",
       "  <style>\n",
       "    .colab-df-container {\n",
       "      display:flex;\n",
       "      flex-wrap:wrap;\n",
       "      gap: 12px;\n",
       "    }\n",
       "\n",
       "    .colab-df-convert {\n",
       "      background-color: #E8F0FE;\n",
       "      border: none;\n",
       "      border-radius: 50%;\n",
       "      cursor: pointer;\n",
       "      display: none;\n",
       "      fill: #1967D2;\n",
       "      height: 32px;\n",
       "      padding: 0 0 0 0;\n",
       "      width: 32px;\n",
       "    }\n",
       "\n",
       "    .colab-df-convert:hover {\n",
       "      background-color: #E2EBFA;\n",
       "      box-shadow: 0px 1px 2px rgba(60, 64, 67, 0.3), 0px 1px 3px 1px rgba(60, 64, 67, 0.15);\n",
       "      fill: #174EA6;\n",
       "    }\n",
       "\n",
       "    [theme=dark] .colab-df-convert {\n",
       "      background-color: #3B4455;\n",
       "      fill: #D2E3FC;\n",
       "    }\n",
       "\n",
       "    [theme=dark] .colab-df-convert:hover {\n",
       "      background-color: #434B5C;\n",
       "      box-shadow: 0px 1px 3px 1px rgba(0, 0, 0, 0.15);\n",
       "      filter: drop-shadow(0px 1px 2px rgba(0, 0, 0, 0.3));\n",
       "      fill: #FFFFFF;\n",
       "    }\n",
       "  </style>\n",
       "\n",
       "      <script>\n",
       "        const buttonEl =\n",
       "          document.querySelector('#df-4d3bd59e-1475-48b2-bd68-f52a29f91b5c button.colab-df-convert');\n",
       "        buttonEl.style.display =\n",
       "          google.colab.kernel.accessAllowed ? 'block' : 'none';\n",
       "\n",
       "        async function convertToInteractive(key) {\n",
       "          const element = document.querySelector('#df-4d3bd59e-1475-48b2-bd68-f52a29f91b5c');\n",
       "          const dataTable =\n",
       "            await google.colab.kernel.invokeFunction('convertToInteractive',\n",
       "                                                     [key], {});\n",
       "          if (!dataTable) return;\n",
       "\n",
       "          const docLinkHtml = 'Like what you see? Visit the ' +\n",
       "            '<a target=\"_blank\" href=https://colab.research.google.com/notebooks/data_table.ipynb>data table notebook</a>'\n",
       "            + ' to learn more about interactive tables.';\n",
       "          element.innerHTML = '';\n",
       "          dataTable['output_type'] = 'display_data';\n",
       "          await google.colab.output.renderOutput(dataTable, element);\n",
       "          const docLink = document.createElement('div');\n",
       "          docLink.innerHTML = docLinkHtml;\n",
       "          element.appendChild(docLink);\n",
       "        }\n",
       "      </script>\n",
       "    </div>\n",
       "  </div>\n",
       "  "
      ],
      "text/plain": [
       "          id  item_id  dept_id  cat_id  store_id  state_id     d  sales  \\\n",
       "84045    392      392        2       1         0         0    43    1.0   \n",
       "84049    396      396        2       1         0         0    43   12.0   \n",
       "84050    397      397        2       1         0         0    43    4.0   \n",
       "86046    392      392        2       1         0         0    44    0.0   \n",
       "86050    396      396        2       1         0         0    44    2.0   \n",
       "...      ...      ...      ...     ...       ...       ...   ...    ...   \n",
       "3881943  392      392        2       1         0         0  1941    6.0   \n",
       "3881944  393      393        2       1         0         0  1941    0.0   \n",
       "3881945  394      394        2       1         0         0  1941    0.0   \n",
       "3881946  395      395        2       1         0         0  1941    0.0   \n",
       "3881947  396      396        2       1         0         0  1941   32.0   \n",
       "\n",
       "         release  sell_price  ...  tm_wm  tm_dw  tm_w_end  lag_28  lag_35  \\\n",
       "84045        5.0    4.339844  ...      2      5         1     0.0     2.0   \n",
       "84049        0.0    0.419922  ...      2      5         1     8.0     6.0   \n",
       "84050        0.0    1.559570  ...      2      5         1     0.0     3.0   \n",
       "86046        5.0    4.339844  ...      2      6         1     0.0     2.0   \n",
       "86050        0.0    0.419922  ...      2      6         1     0.0     0.0   \n",
       "...          ...         ...  ...    ...    ...       ...     ...     ...   \n",
       "3881943      5.0    4.640625  ...      4      6         1     5.0     0.0   \n",
       "3881944     16.0    2.880859  ...      4      6         1     3.0     0.0   \n",
       "3881945    109.0    0.959961  ...      4      6         1     0.0     0.0   \n",
       "3881946    123.0    7.878906  ...      4      6         1     2.0     1.0   \n",
       "3881947      0.0    0.479980  ...      4      6         1     3.0     0.0   \n",
       "\n",
       "         lag_42  lag_49  lag_56  lag_63  lag_70  \n",
       "84045      10.0     2.0     9.0     4.0     5.0  \n",
       "84049       5.0     0.0     4.0     2.0     9.0  \n",
       "84050       4.0     0.0     3.0     3.0     7.0  \n",
       "86046       2.0     0.0     4.0     2.0     0.0  \n",
       "86050       4.0     1.0     0.0     1.0     0.0  \n",
       "...         ...     ...     ...     ...     ...  \n",
       "3881943     1.0     0.0     0.0     0.0     2.0  \n",
       "3881944     0.0     4.0     0.0     1.0     0.0  \n",
       "3881945     0.0     2.0     0.0     1.0     7.0  \n",
       "3881946     1.0     0.0     0.0     0.0     4.0  \n",
       "3881947     1.0     0.0     6.0     0.0     1.0  \n",
       "\n",
       "[13610 rows x 46 columns]"
      ]
     },
     "execution_count": 31,
     "metadata": {},
     "output_type": "execute_result"
    }
   ],
   "source": [
    "new_df.dropna()"
   ]
  },
  {
   "cell_type": "markdown",
   "metadata": {
    "id": "zMDf5HiODFaR"
   },
   "source": [
    "========================================"
   ]
  },
  {
   "cell_type": "code",
   "execution_count": null,
   "metadata": {
    "id": "K_9jU8K1jJ6G"
   },
   "outputs": [],
   "source": [
    "from sklearn.linear_model import LinearRegression\n",
    "from sklearn.model_selection import cross_val_score\n",
    "from sklearn.model_selection import TimeSeriesSplit\n",
    "\n",
    "# for time-series cross-validation set 5 folds \n",
    "tscv = TimeSeriesSplit(n_splits=5)"
   ]
  },
  {
   "cell_type": "code",
   "execution_count": null,
   "metadata": {
    "id": "uVlsL78oDH-e"
   },
   "outputs": [],
   "source": []
  },
  {
   "cell_type": "code",
   "execution_count": null,
   "metadata": {
    "id": "Xrpv0PnSjjax"
   },
   "outputs": [],
   "source": [
    "def timeseries_train_test_split(X, y, test_size):\n",
    "    \"\"\"\n",
    "        Perform train-test split with respect to time series structure\n",
    "    \"\"\"\n",
    "    \n",
    "    # get the index after which test set starts\n",
    "    test_index = int(len(X)*(1-test_size))\n",
    "    \n",
    "    X_train = X.iloc[:test_index]\n",
    "    y_train = y.iloc[:test_index]\n",
    "    X_test = X.iloc[test_index:]\n",
    "    y_test = y.iloc[test_index:]\n",
    "    \n",
    "    return X_train, X_test, y_train, y_test"
   ]
  },
  {
   "cell_type": "code",
   "execution_count": null,
   "metadata": {
    "id": "rq-s9fDikDgO"
   },
   "outputs": [],
   "source": [
    "new_df = new_df.dropna()"
   ]
  },
  {
   "cell_type": "code",
   "execution_count": null,
   "metadata": {
    "colab": {
     "base_uri": "https://localhost:8080/",
     "height": 300
    },
    "id": "tBvLf8Z37YAj",
    "outputId": "e6062114-9ea4-4aaf-f0e0-ed10d5aa5e76"
   },
   "outputs": [
    {
     "data": {
      "text/html": [
       "\n",
       "  <div id=\"df-b6c2bec7-bc9e-4b46-891c-546ced154157\">\n",
       "    <div class=\"colab-df-container\">\n",
       "      <div>\n",
       "<style scoped>\n",
       "    .dataframe tbody tr th:only-of-type {\n",
       "        vertical-align: middle;\n",
       "    }\n",
       "\n",
       "    .dataframe tbody tr th {\n",
       "        vertical-align: top;\n",
       "    }\n",
       "\n",
       "    .dataframe thead th {\n",
       "        text-align: right;\n",
       "    }\n",
       "</style>\n",
       "<table border=\"1\" class=\"dataframe\">\n",
       "  <thead>\n",
       "    <tr style=\"text-align: right;\">\n",
       "      <th></th>\n",
       "      <th>id</th>\n",
       "      <th>item_id</th>\n",
       "      <th>dept_id</th>\n",
       "      <th>cat_id</th>\n",
       "      <th>store_id</th>\n",
       "      <th>state_id</th>\n",
       "      <th>d</th>\n",
       "      <th>sales</th>\n",
       "      <th>release</th>\n",
       "      <th>sell_price</th>\n",
       "      <th>...</th>\n",
       "      <th>tm_wm</th>\n",
       "      <th>tm_dw</th>\n",
       "      <th>tm_w_end</th>\n",
       "      <th>lag_28</th>\n",
       "      <th>lag_35</th>\n",
       "      <th>lag_42</th>\n",
       "      <th>lag_49</th>\n",
       "      <th>lag_56</th>\n",
       "      <th>lag_63</th>\n",
       "      <th>lag_70</th>\n",
       "    </tr>\n",
       "  </thead>\n",
       "  <tbody>\n",
       "    <tr>\n",
       "      <th>3881943</th>\n",
       "      <td>392</td>\n",
       "      <td>392</td>\n",
       "      <td>2</td>\n",
       "      <td>1</td>\n",
       "      <td>0</td>\n",
       "      <td>0</td>\n",
       "      <td>1941</td>\n",
       "      <td>6.0</td>\n",
       "      <td>5.0</td>\n",
       "      <td>4.640625</td>\n",
       "      <td>...</td>\n",
       "      <td>4</td>\n",
       "      <td>6</td>\n",
       "      <td>1</td>\n",
       "      <td>1.0</td>\n",
       "      <td>2.0</td>\n",
       "      <td>0.0</td>\n",
       "      <td>0.0</td>\n",
       "      <td>0.0</td>\n",
       "      <td>1.0</td>\n",
       "      <td>0.0</td>\n",
       "    </tr>\n",
       "    <tr>\n",
       "      <th>3881944</th>\n",
       "      <td>393</td>\n",
       "      <td>393</td>\n",
       "      <td>2</td>\n",
       "      <td>1</td>\n",
       "      <td>0</td>\n",
       "      <td>0</td>\n",
       "      <td>1941</td>\n",
       "      <td>0.0</td>\n",
       "      <td>16.0</td>\n",
       "      <td>2.880859</td>\n",
       "      <td>...</td>\n",
       "      <td>4</td>\n",
       "      <td>6</td>\n",
       "      <td>1</td>\n",
       "      <td>1.0</td>\n",
       "      <td>0.0</td>\n",
       "      <td>3.0</td>\n",
       "      <td>1.0</td>\n",
       "      <td>0.0</td>\n",
       "      <td>3.0</td>\n",
       "      <td>2.0</td>\n",
       "    </tr>\n",
       "    <tr>\n",
       "      <th>3881945</th>\n",
       "      <td>394</td>\n",
       "      <td>394</td>\n",
       "      <td>2</td>\n",
       "      <td>1</td>\n",
       "      <td>0</td>\n",
       "      <td>0</td>\n",
       "      <td>1941</td>\n",
       "      <td>0.0</td>\n",
       "      <td>109.0</td>\n",
       "      <td>0.959961</td>\n",
       "      <td>...</td>\n",
       "      <td>4</td>\n",
       "      <td>6</td>\n",
       "      <td>1</td>\n",
       "      <td>1.0</td>\n",
       "      <td>0.0</td>\n",
       "      <td>6.0</td>\n",
       "      <td>2.0</td>\n",
       "      <td>2.0</td>\n",
       "      <td>0.0</td>\n",
       "      <td>0.0</td>\n",
       "    </tr>\n",
       "    <tr>\n",
       "      <th>3881946</th>\n",
       "      <td>395</td>\n",
       "      <td>395</td>\n",
       "      <td>2</td>\n",
       "      <td>1</td>\n",
       "      <td>0</td>\n",
       "      <td>0</td>\n",
       "      <td>1941</td>\n",
       "      <td>0.0</td>\n",
       "      <td>123.0</td>\n",
       "      <td>7.878906</td>\n",
       "      <td>...</td>\n",
       "      <td>4</td>\n",
       "      <td>6</td>\n",
       "      <td>1</td>\n",
       "      <td>2.0</td>\n",
       "      <td>0.0</td>\n",
       "      <td>0.0</td>\n",
       "      <td>0.0</td>\n",
       "      <td>0.0</td>\n",
       "      <td>0.0</td>\n",
       "      <td>0.0</td>\n",
       "    </tr>\n",
       "    <tr>\n",
       "      <th>3881947</th>\n",
       "      <td>396</td>\n",
       "      <td>396</td>\n",
       "      <td>2</td>\n",
       "      <td>1</td>\n",
       "      <td>0</td>\n",
       "      <td>0</td>\n",
       "      <td>1941</td>\n",
       "      <td>32.0</td>\n",
       "      <td>0.0</td>\n",
       "      <td>0.479980</td>\n",
       "      <td>...</td>\n",
       "      <td>4</td>\n",
       "      <td>6</td>\n",
       "      <td>1</td>\n",
       "      <td>0.0</td>\n",
       "      <td>0.0</td>\n",
       "      <td>0.0</td>\n",
       "      <td>2.0</td>\n",
       "      <td>2.0</td>\n",
       "      <td>9.0</td>\n",
       "      <td>2.0</td>\n",
       "    </tr>\n",
       "  </tbody>\n",
       "</table>\n",
       "<p>5 rows × 46 columns</p>\n",
       "</div>\n",
       "      <button class=\"colab-df-convert\" onclick=\"convertToInteractive('df-b6c2bec7-bc9e-4b46-891c-546ced154157')\"\n",
       "              title=\"Convert this dataframe to an interactive table.\"\n",
       "              style=\"display:none;\">\n",
       "        \n",
       "  <svg xmlns=\"http://www.w3.org/2000/svg\" height=\"24px\"viewBox=\"0 0 24 24\"\n",
       "       width=\"24px\">\n",
       "    <path d=\"M0 0h24v24H0V0z\" fill=\"none\"/>\n",
       "    <path d=\"M18.56 5.44l.94 2.06.94-2.06 2.06-.94-2.06-.94-.94-2.06-.94 2.06-2.06.94zm-11 1L8.5 8.5l.94-2.06 2.06-.94-2.06-.94L8.5 2.5l-.94 2.06-2.06.94zm10 10l.94 2.06.94-2.06 2.06-.94-2.06-.94-.94-2.06-.94 2.06-2.06.94z\"/><path d=\"M17.41 7.96l-1.37-1.37c-.4-.4-.92-.59-1.43-.59-.52 0-1.04.2-1.43.59L10.3 9.45l-7.72 7.72c-.78.78-.78 2.05 0 2.83L4 21.41c.39.39.9.59 1.41.59.51 0 1.02-.2 1.41-.59l7.78-7.78 2.81-2.81c.8-.78.8-2.07 0-2.86zM5.41 20L4 18.59l7.72-7.72 1.47 1.35L5.41 20z\"/>\n",
       "  </svg>\n",
       "      </button>\n",
       "      \n",
       "  <style>\n",
       "    .colab-df-container {\n",
       "      display:flex;\n",
       "      flex-wrap:wrap;\n",
       "      gap: 12px;\n",
       "    }\n",
       "\n",
       "    .colab-df-convert {\n",
       "      background-color: #E8F0FE;\n",
       "      border: none;\n",
       "      border-radius: 50%;\n",
       "      cursor: pointer;\n",
       "      display: none;\n",
       "      fill: #1967D2;\n",
       "      height: 32px;\n",
       "      padding: 0 0 0 0;\n",
       "      width: 32px;\n",
       "    }\n",
       "\n",
       "    .colab-df-convert:hover {\n",
       "      background-color: #E2EBFA;\n",
       "      box-shadow: 0px 1px 2px rgba(60, 64, 67, 0.3), 0px 1px 3px 1px rgba(60, 64, 67, 0.15);\n",
       "      fill: #174EA6;\n",
       "    }\n",
       "\n",
       "    [theme=dark] .colab-df-convert {\n",
       "      background-color: #3B4455;\n",
       "      fill: #D2E3FC;\n",
       "    }\n",
       "\n",
       "    [theme=dark] .colab-df-convert:hover {\n",
       "      background-color: #434B5C;\n",
       "      box-shadow: 0px 1px 3px 1px rgba(0, 0, 0, 0.15);\n",
       "      filter: drop-shadow(0px 1px 2px rgba(0, 0, 0, 0.3));\n",
       "      fill: #FFFFFF;\n",
       "    }\n",
       "  </style>\n",
       "\n",
       "      <script>\n",
       "        const buttonEl =\n",
       "          document.querySelector('#df-b6c2bec7-bc9e-4b46-891c-546ced154157 button.colab-df-convert');\n",
       "        buttonEl.style.display =\n",
       "          google.colab.kernel.accessAllowed ? 'block' : 'none';\n",
       "\n",
       "        async function convertToInteractive(key) {\n",
       "          const element = document.querySelector('#df-b6c2bec7-bc9e-4b46-891c-546ced154157');\n",
       "          const dataTable =\n",
       "            await google.colab.kernel.invokeFunction('convertToInteractive',\n",
       "                                                     [key], {});\n",
       "          if (!dataTable) return;\n",
       "\n",
       "          const docLinkHtml = 'Like what you see? Visit the ' +\n",
       "            '<a target=\"_blank\" href=https://colab.research.google.com/notebooks/data_table.ipynb>data table notebook</a>'\n",
       "            + ' to learn more about interactive tables.';\n",
       "          element.innerHTML = '';\n",
       "          dataTable['output_type'] = 'display_data';\n",
       "          await google.colab.output.renderOutput(dataTable, element);\n",
       "          const docLink = document.createElement('div');\n",
       "          docLink.innerHTML = docLinkHtml;\n",
       "          element.appendChild(docLink);\n",
       "        }\n",
       "      </script>\n",
       "    </div>\n",
       "  </div>\n",
       "  "
      ],
      "text/plain": [
       "          id  item_id  dept_id  cat_id  store_id  state_id     d  sales  \\\n",
       "3881943  392      392        2       1         0         0  1941    6.0   \n",
       "3881944  393      393        2       1         0         0  1941    0.0   \n",
       "3881945  394      394        2       1         0         0  1941    0.0   \n",
       "3881946  395      395        2       1         0         0  1941    0.0   \n",
       "3881947  396      396        2       1         0         0  1941   32.0   \n",
       "\n",
       "         release  sell_price  ...  tm_wm  tm_dw  tm_w_end  lag_28  lag_35  \\\n",
       "3881943      5.0    4.640625  ...      4      6         1     1.0     2.0   \n",
       "3881944     16.0    2.880859  ...      4      6         1     1.0     0.0   \n",
       "3881945    109.0    0.959961  ...      4      6         1     1.0     0.0   \n",
       "3881946    123.0    7.878906  ...      4      6         1     2.0     0.0   \n",
       "3881947      0.0    0.479980  ...      4      6         1     0.0     0.0   \n",
       "\n",
       "         lag_42  lag_49  lag_56  lag_63  lag_70  \n",
       "3881943     0.0     0.0     0.0     1.0     0.0  \n",
       "3881944     3.0     1.0     0.0     3.0     2.0  \n",
       "3881945     6.0     2.0     2.0     0.0     0.0  \n",
       "3881946     0.0     0.0     0.0     0.0     0.0  \n",
       "3881947     0.0     2.0     2.0     9.0     2.0  \n",
       "\n",
       "[5 rows x 46 columns]"
      ]
     },
     "execution_count": 18,
     "metadata": {},
     "output_type": "execute_result"
    }
   ],
   "source": [
    "new_df.tail()"
   ]
  },
  {
   "cell_type": "code",
   "execution_count": null,
   "metadata": {
    "colab": {
     "base_uri": "https://localhost:8080/"
    },
    "id": "zKnChowH7MgK",
    "outputId": "4b3f4a99-003c-4f65-89cd-e191fb64876a"
   },
   "outputs": [
    {
     "data": {
      "text/plain": [
       "Index(['id', 'item_id', 'dept_id', 'cat_id', 'store_id', 'state_id', 'd',\n",
       "       'sales', 'release', 'sell_price', 'price_max', 'price_min', 'price_std',\n",
       "       'price_mean', 'price_norm', 'price_nunique', 'item_nunique',\n",
       "       'price_momentum', 'price_momentum_m', 'price_momentum_y',\n",
       "       'event_name_1', 'event_type_1', 'event_name_2', 'event_type_2',\n",
       "       'snap_CA', 'snap_TX', 'snap_WI', 'wday', 'month_day',\n",
       "       'month_week_number', 'events_per_day', 'tm_d', 'is_weekend', 'tm_w',\n",
       "       'tm_m', 'tm_y', 'tm_wm', 'tm_dw', 'tm_w_end', 'lag_28', 'lag_35',\n",
       "       'lag_42', 'lag_49', 'lag_56', 'lag_63', 'lag_70'],\n",
       "      dtype='object')"
      ]
     },
     "execution_count": 32,
     "metadata": {},
     "output_type": "execute_result"
    }
   ],
   "source": [
    "new_df.columns"
   ]
  },
  {
   "cell_type": "code",
   "execution_count": null,
   "metadata": {
    "id": "vNpwn1mZkJDC"
   },
   "outputs": [],
   "source": [
    "features = ['item_id', 'dept_id', 'cat_id', 'store_id', 'state_id', 'd',\n",
    "        'release', 'sell_price', 'price_max', 'price_min', 'price_std',\n",
    "       'price_mean', 'price_norm', 'price_nunique', 'item_nunique',\n",
    "       'price_momentum', 'price_momentum_m', 'price_momentum_y',\n",
    "       'event_name_1', 'event_type_1', 'event_name_2', 'event_type_2',\n",
    "       'snap_CA', 'snap_TX', 'snap_WI', 'wday', 'month_day',\n",
    "       'month_week_number', 'events_per_day', 'tm_d', 'is_weekend', 'tm_w',\n",
    "       'tm_m', 'tm_y', 'tm_wm', 'tm_dw', 'tm_w_end','lag_28', 'lag_35',\n",
    "       'lag_42', 'lag_49', 'lag_56', 'lag_63', 'lag_70']"
   ]
  },
  {
   "cell_type": "code",
   "execution_count": null,
   "metadata": {
    "id": "wPT5vWLjj8Fb"
   },
   "outputs": [],
   "source": [
    "X = new_df[features]\n",
    "y = new_df['sales']"
   ]
  },
  {
   "cell_type": "code",
   "execution_count": null,
   "metadata": {
    "id": "AhdxGs3pkolT"
   },
   "outputs": [],
   "source": [
    "X_train, X_test, y_train, y_test = timeseries_train_test_split(X, y, test_size=0.3)"
   ]
  },
  {
   "cell_type": "code",
   "execution_count": null,
   "metadata": {
    "colab": {
     "base_uri": "https://localhost:8080/"
    },
    "id": "POzMeFMOmd6U",
    "outputId": "e13c6300-a998-476b-c8f3-a8d30cc147db"
   },
   "outputs": [
    {
     "name": "stdout",
     "output_type": "stream",
     "text": [
      "<class 'pandas.core.frame.DataFrame'>\n",
      "Int64Index: 9576 entries, 14014 to 2861432\n",
      "Data columns (total 44 columns):\n",
      " #   Column             Non-Null Count  Dtype   \n",
      "---  ------             --------------  -----   \n",
      " 0   item_id            9576 non-null   int64   \n",
      " 1   dept_id            9576 non-null   int64   \n",
      " 2   cat_id             9576 non-null   int64   \n",
      " 3   store_id           9576 non-null   int64   \n",
      " 4   state_id           9576 non-null   int64   \n",
      " 5   d                  9576 non-null   int16   \n",
      " 6   release            9576 non-null   float64 \n",
      " 7   sell_price         9576 non-null   float16 \n",
      " 8   price_max          9576 non-null   float16 \n",
      " 9   price_min          9576 non-null   float16 \n",
      " 10  price_std          9576 non-null   float16 \n",
      " 11  price_mean         9576 non-null   float16 \n",
      " 12  price_norm         9576 non-null   float16 \n",
      " 13  price_nunique      9576 non-null   float16 \n",
      " 14  item_nunique       9576 non-null   float16 \n",
      " 15  price_momentum     9576 non-null   float16 \n",
      " 16  price_momentum_m   9576 non-null   float16 \n",
      " 17  price_momentum_y   9576 non-null   float16 \n",
      " 18  event_name_1       9576 non-null   int64   \n",
      " 19  event_type_1       9576 non-null   int64   \n",
      " 20  event_name_2       9576 non-null   int64   \n",
      " 21  event_type_2       9576 non-null   int64   \n",
      " 22  snap_CA            9576 non-null   category\n",
      " 23  snap_TX            9576 non-null   category\n",
      " 24  snap_WI            9576 non-null   category\n",
      " 25  wday               9576 non-null   category\n",
      " 26  month_day          9576 non-null   int8    \n",
      " 27  month_week_number  9576 non-null   int8    \n",
      " 28  events_per_day     9576 non-null   int8    \n",
      " 29  tm_d               9576 non-null   int8    \n",
      " 30  is_weekend         9576 non-null   int8    \n",
      " 31  tm_w               9576 non-null   int8    \n",
      " 32  tm_m               9576 non-null   int8    \n",
      " 33  tm_y               9576 non-null   int8    \n",
      " 34  tm_wm              9576 non-null   int8    \n",
      " 35  tm_dw              9576 non-null   int8    \n",
      " 36  tm_w_end           9576 non-null   int8    \n",
      " 37  lag_28             9548 non-null   float64 \n",
      " 38  lag_35             9541 non-null   float64 \n",
      " 39  lag_42             9534 non-null   float64 \n",
      " 40  lag_49             9527 non-null   float64 \n",
      " 41  lag_56             9520 non-null   float64 \n",
      " 42  lag_63             9513 non-null   float64 \n",
      " 43  lag_70             9506 non-null   float64 \n",
      "dtypes: category(4), float16(11), float64(8), int16(1), int64(9), int8(11)\n",
      "memory usage: 1.7 MB\n"
     ]
    }
   ],
   "source": [
    "X_train.info()"
   ]
  },
  {
   "cell_type": "code",
   "execution_count": null,
   "metadata": {
    "id": "Cwa9PkF99iBM"
   },
   "outputs": [],
   "source": [
    "import lightgbm as ltb\n",
    "from math import sqrt\n"
   ]
  },
  {
   "cell_type": "code",
   "execution_count": null,
   "metadata": {
    "id": "DErA4tCPAGbS"
   },
   "outputs": [],
   "source": [
    "from sklearn.metrics import mean_squared_error as mse"
   ]
  },
  {
   "cell_type": "code",
   "execution_count": null,
   "metadata": {
    "colab": {
     "base_uri": "https://localhost:8080/"
    },
    "id": "pbr7rt3C9iHL",
    "outputId": "6c43ce25-1ddb-4dc9-fffd-1a688fc2dc55"
   },
   "outputs": [
    {
     "name": "stdout",
     "output_type": "stream",
     "text": [
      "learning_rate: 0.034   max_depth: 66   num_leaves: 224   Rmse: 3.968344976744665\n"
     ]
    }
   ],
   "source": [
    "learning_rate=0.034 \n",
    "max_depth=66 \n",
    "num_leaves=224 \n",
    "lgb=ltb.LGBMRegressor(learning_rate=learning_rate,\n",
    "                  max_depth=max_depth,\n",
    "                  num_leaves=num_leaves,\n",
    "                  n_jobs=-1,\n",
    "                  n_estimators=100)\n",
    "lgb.fit(X_train,y_train)\n",
    "y_pred=lgb.predict(X_test)\n",
    "print(\"learning_rate: {}\".format(learning_rate),\"  max_depth: {}\".format(max_depth),\n",
    "      \"  num_leaves: {}\".format(num_leaves),\"  Rmse: {}\".format(sqrt(mse(y_pred,y_test))))"
   ]
  },
  {
   "cell_type": "code",
   "execution_count": null,
   "metadata": {
    "id": "wnT8LS7jSUga"
   },
   "outputs": [],
   "source": [
    "import matplotlib.pyplot as plt"
   ]
  },
  {
   "cell_type": "code",
   "execution_count": null,
   "metadata": {
    "colab": {
     "base_uri": "https://localhost:8080/",
     "height": 828
    },
    "id": "bpw0GnKVR0qj",
    "outputId": "42a86509-a04f-47e6-e56b-bfcc74b59b15"
   },
   "outputs": [
    {
     "data": {
      "image/png": "[encoded data removed]",
      "text/plain": [
       "<Figure size 1080x1080 with 1 Axes>"
      ]
     },
     "metadata": {
      "needs_background": "light"
     },
     "output_type": "display_data"
    }
   ],
   "source": [
    "ax = ltb.plot_importance(lgb, max_num_features=40, figsize=(15,15))\n",
    "plt.show()"
   ]
  },
  {
   "cell_type": "code",
   "execution_count": null,
   "metadata": {
    "id": "WPMyZcb578aT"
   },
   "outputs": [],
   "source": []
  }
 ],
 "metadata": {
  "colab": {
   "collapsed_sections": [],
   "provenance": []
  },
  "gpuClass": "standard",
  "kernelspec": {
   "display_name": "Python 3",
   "language": "python",
   "name": "python3"
  },
  "language_info": {
   "codemirror_mode": {
    "name": "ipython",
    "version": 3
   },
   "file_extension": ".py",
   "mimetype": "text/x-python",
   "name": "python",
   "nbconvert_exporter": "python",
   "pygments_lexer": "ipython3",
   "version": "3.7.6"
  }
 },
 "nbformat": 4,
 "nbformat_minor": 1
}
